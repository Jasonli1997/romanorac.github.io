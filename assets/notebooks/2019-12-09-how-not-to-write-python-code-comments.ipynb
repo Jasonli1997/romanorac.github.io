{
 "cells": [
  {
   "cell_type": "markdown",
   "metadata": {},
   "source": [
    "# How NOT to write pandas code\n",
    "\n",
    "I've been using pandas as my main tool for data analysis for the last 4 years.\n",
    "I must admit that most of \"How NOT to code with pandas\" comes from my beginnings.\n",
    "While doing code reviews I still see many of \"Hot NOT to-s\" with more experienced programmers.\n",
    "\n",
    "In this blog post, I first show an example of \"how NOT to\" and then show a proper \"how TO\" way of calculating statistics with pandas.\n",
    "The arguments for improvement are concise, more readable code and faster execution.\n",
    "Reported times are in a format: `831 ms ± 25.7 ms per loop`, which means 831 milliseconds on average with 25.7 milliseconds standard deviation.\n",
    "Each code sample is executed multiple times to calculate accurate execution time.\n",
    "\n",
    "As usual, you can download this Jupyter Notebook to try examples on your machine. \n",
    "\n",
    "To Step Up Your Pandas Game, read: \n",
    "- [5 lesser-known pandas tricks](https://towardsdatascience.com/5-lesser-known-pandas-tricks-e8ab1dd21431)\n",
    "- [Exploratory Data Analysis with pandas](https://towardsdatascience.com/exploratory-data-analysis-with-pandas-508a5e8a5964)"
   ]
  },
  {
   "cell_type": "markdown",
   "metadata": {},
   "source": [
    "## Setup"
   ]
  },
  {
   "cell_type": "code",
   "execution_count": 1,
   "metadata": {},
   "outputs": [],
   "source": [
    "from platform import python_version\n",
    "\n",
    "import numpy as np\n",
    "import pandas as pd"
   ]
  },
  {
   "cell_type": "code",
   "execution_count": 2,
   "metadata": {},
   "outputs": [],
   "source": [
    "np.random.seed(42) # set the seed to make examples repeatable"
   ]
  },
  {
   "cell_type": "code",
   "execution_count": 3,
   "metadata": {},
   "outputs": [
    {
     "name": "stdout",
     "output_type": "stream",
     "text": [
      "python version==3.7.3\n",
      "pandas==0.25.3\n",
      "numpy==1.17.4\n"
     ]
    }
   ],
   "source": [
    "print(\"python version==%s\" % python_version())\n",
    "print(\"pandas==%s\" % pd.__version__)\n",
    "print(\"numpy==%s\" % np.__version__)"
   ]
  },
  {
   "cell_type": "markdown",
   "metadata": {},
   "source": [
    "## Sample Dataset\n",
    "\n",
    "The sample dataset contains booking information for various cities.\n",
    "It is random and its only purpose is to show the examples.\n",
    "\n",
    "The dataset has 3 columns:\n",
    "- <b>id</b> is a unique id,\n",
    "- <b>city</b> is the city of booking,\n",
    "- <b>booked_perc</b> is the percentage of bookings at a certain time.\n",
    "\n",
    "The dataset has 10k entries to make speed improvements more visible. \n",
    "Note, pandas can calculate statistics on DataFrames with millions (even billions) of rows if the code is written on proper pandas-way."
   ]
  },
  {
   "cell_type": "code",
   "execution_count": 4,
   "metadata": {},
   "outputs": [
    {
     "data": {
      "text/html": [
       "<div>\n",
       "<style scoped>\n",
       "    .dataframe tbody tr th:only-of-type {\n",
       "        vertical-align: middle;\n",
       "    }\n",
       "\n",
       "    .dataframe tbody tr th {\n",
       "        vertical-align: top;\n",
       "    }\n",
       "\n",
       "    .dataframe thead th {\n",
       "        text-align: right;\n",
       "    }\n",
       "</style>\n",
       "<table border=\"1\" class=\"dataframe\">\n",
       "  <thead>\n",
       "    <tr style=\"text-align: right;\">\n",
       "      <th></th>\n",
       "      <th>id</th>\n",
       "      <th>city</th>\n",
       "      <th>booked_perc</th>\n",
       "    </tr>\n",
       "  </thead>\n",
       "  <tbody>\n",
       "    <tr>\n",
       "      <th>0</th>\n",
       "      <td>0-berlin</td>\n",
       "      <td>berlin</td>\n",
       "      <td>0.393636</td>\n",
       "    </tr>\n",
       "    <tr>\n",
       "      <th>1</th>\n",
       "      <td>1-new york</td>\n",
       "      <td>new york</td>\n",
       "      <td>0.473436</td>\n",
       "    </tr>\n",
       "    <tr>\n",
       "      <th>2</th>\n",
       "      <td>2-paris</td>\n",
       "      <td>paris</td>\n",
       "      <td>0.854547</td>\n",
       "    </tr>\n",
       "    <tr>\n",
       "      <th>3</th>\n",
       "      <td>3-berlin</td>\n",
       "      <td>berlin</td>\n",
       "      <td>0.340004</td>\n",
       "    </tr>\n",
       "    <tr>\n",
       "      <th>4</th>\n",
       "      <td>4-berlin</td>\n",
       "      <td>berlin</td>\n",
       "      <td>0.869650</td>\n",
       "    </tr>\n",
       "  </tbody>\n",
       "</table>\n",
       "</div>"
      ],
      "text/plain": [
       "           id      city  booked_perc\n",
       "0    0-berlin    berlin     0.393636\n",
       "1  1-new york  new york     0.473436\n",
       "2     2-paris     paris     0.854547\n",
       "3    3-berlin    berlin     0.340004\n",
       "4    4-berlin    berlin     0.869650"
      ]
     },
     "execution_count": 4,
     "metadata": {},
     "output_type": "execute_result"
    }
   ],
   "source": [
    "size = 10000\n",
    "\n",
    "cities = [\"paris\", \"barcelona\", \"berlin\", \"new york\"]\n",
    "\n",
    "df = pd.DataFrame(\n",
    "    {\"city\": np.random.choice(cities, size=size), \"booked_perc\": np.random.rand(size)}\n",
    ")\n",
    "df[\"id\"] = df.index.map(str) + \"-\" + df.city\n",
    "df = df[[\"id\", \"city\", \"booked_perc\"]]\n",
    "df.head()"
   ]
  },
  {
   "cell_type": "markdown",
   "metadata": {},
   "source": [
    "## 1. How NOT to sum the data\n",
    "\n",
    "I came from Java world and I brought \"for loops in multiple lines\" with myself to Python.\n",
    "\n",
    "Let's calculate the sum of a booked_perc column - I know that it doesn't make sense to sum percentages, but let's do it anyway :)"
   ]
  },
  {
   "cell_type": "code",
   "execution_count": 5,
   "metadata": {},
   "outputs": [
    {
     "name": "stdout",
     "output_type": "stream",
     "text": [
      "766 ms ± 20.9 ms per loop (mean ± std. dev. of 7 runs, 1 loop each)\n"
     ]
    }
   ],
   "source": [
    "%%timeit\n",
    "\n",
    "suma = 0\n",
    "for _, row in df.iterrows():\n",
    "    suma += row.booked_perc"
   ]
  },
  {
   "cell_type": "markdown",
   "metadata": {},
   "source": [
    "The more Pythonic way to sum the values of a column is: "
   ]
  },
  {
   "cell_type": "code",
   "execution_count": 6,
   "metadata": {},
   "outputs": [
    {
     "name": "stdout",
     "output_type": "stream",
     "text": [
      "989 µs ± 18.5 µs per loop (mean ± std. dev. of 7 runs, 1000 loops each)\n"
     ]
    }
   ],
   "source": [
    "%%timeit\n",
    "\n",
    "sum(booked_perc for booked_perc in df.booked_perc)"
   ]
  },
  {
   "cell_type": "code",
   "execution_count": 7,
   "metadata": {},
   "outputs": [
    {
     "name": "stdout",
     "output_type": "stream",
     "text": [
      "92 µs ± 2.21 µs per loop (mean ± std. dev. of 7 runs, 10000 loops each)\n"
     ]
    }
   ],
   "source": [
    "%%timeit\n",
    "\n",
    "df.booked_perc.sum()"
   ]
  },
  {
   "cell_type": "markdown",
   "metadata": {},
   "source": [
    "As expected the first example is the slowest - it takes almost 1 second to sum 10k entries.\n",
    "It surprised me by how fast is the second example.\n",
    "The proper way of summing the data with pandas (or using any other operation on a column) is the third example - also the fastest!"
   ]
  },
  {
   "cell_type": "markdown",
   "metadata": {},
   "source": [
    "## 2. How NOT to filter the data\n",
    "\n",
    "Despite being quite experienced with numpy before starting using pandas, I was filtering data in a for loop. \n",
    "You can observe the performance hit while calculating the sum."
   ]
  },
  {
   "cell_type": "code",
   "execution_count": 8,
   "metadata": {},
   "outputs": [
    {
     "name": "stdout",
     "output_type": "stream",
     "text": [
      "831 ms ± 25.7 ms per loop (mean ± std. dev. of 7 runs, 1 loop each)\n"
     ]
    }
   ],
   "source": [
    "%%timeit\n",
    "\n",
    "suma = 0\n",
    "for _, row in df.iterrows():\n",
    "    if row.booked_perc <= 0.5:\n",
    "        suma += row.booked_perc"
   ]
  },
  {
   "cell_type": "code",
   "execution_count": 9,
   "metadata": {},
   "outputs": [
    {
     "name": "stdout",
     "output_type": "stream",
     "text": [
      "724 µs ± 18.8 µs per loop (mean ± std. dev. of 7 runs, 1000 loops each)\n"
     ]
    }
   ],
   "source": [
    "%%timeit\n",
    "df[df.booked_perc <= 0.5].booked_perc.sum()"
   ]
  },
  {
   "cell_type": "markdown",
   "metadata": {},
   "source": [
    "As expected the second example is few orders of magnitude faster than the first one.\n",
    "\n",
    "What about adding more filters? We simply wrap them in parentheses:"
   ]
  },
  {
   "cell_type": "code",
   "execution_count": 10,
   "metadata": {},
   "outputs": [
    {
     "name": "stdout",
     "output_type": "stream",
     "text": [
      "1.55 ms ± 10.7 µs per loop (mean ± std. dev. of 7 runs, 1000 loops each)\n"
     ]
    }
   ],
   "source": [
    "%%timeit\n",
    "\n",
    "df[(df.booked_perc <= 0.5) & (df.city == 'new york')].booked_perc.sum()"
   ]
  },
  {
   "cell_type": "markdown",
   "metadata": {},
   "source": [
    "## 3. How NOT to access previous values\n",
    "\n",
    "You might say: Ok, but what about when I to need to access the value of a previous column? Then I need a for loop.\n",
    "Wrong!\n",
    "\n",
    "Let's calculate a percentage change from one row to another with and without a for loop."
   ]
  },
  {
   "cell_type": "code",
   "execution_count": 11,
   "metadata": {},
   "outputs": [
    {
     "name": "stdout",
     "output_type": "stream",
     "text": [
      "7.02 s ± 24.4 ms per loop (mean ± std. dev. of 7 runs, 1 loop each)\n"
     ]
    }
   ],
   "source": [
    "%%timeit\n",
    "\n",
    "for i in range(1, len(df)):\n",
    "    df.loc[i, \"perc_change\"] =  (df.loc[i].booked_perc - df.loc[i - 1].booked_perc) / df.loc[i - 1].booked_perc"
   ]
  },
  {
   "cell_type": "code",
   "execution_count": 12,
   "metadata": {},
   "outputs": [
    {
     "name": "stdout",
     "output_type": "stream",
     "text": [
      "586 µs ± 17.3 µs per loop (mean ± std. dev. of 7 runs, 1000 loops each)\n"
     ]
    }
   ],
   "source": [
    "%%timeit\n",
    "\n",
    "df[\"perc_change\"] = df.booked_perc.pct_change()"
   ]
  },
  {
   "cell_type": "markdown",
   "metadata": {},
   "source": [
    "Again, the second example is much faster than the first one with the for loop.\n",
    "\n",
    "Pandas many has functions that can calculate a statistic based on previous values (eg. `shift` function to lag a value).\n",
    "Those functions take `periods` argument that defines the number of previous values to be included in the calculation."
   ]
  },
  {
   "cell_type": "markdown",
   "metadata": {},
   "source": [
    "## 4. How NOT to apply complex functions\n",
    "\n",
    "Sometimes, we need to apply a complex function (a function with multiple variables) to a DataFrame.\n",
    "Let's say we would like to multiply booking_perc by two from New York, set others to 0 and name the column sales_factor.\n",
    "\n",
    "The first approach that comes to my mind is using a for loop with iterrows."
   ]
  },
  {
   "cell_type": "code",
   "execution_count": 13,
   "metadata": {},
   "outputs": [
    {
     "name": "stdout",
     "output_type": "stream",
     "text": [
      "3.58 s ± 48.2 ms per loop (mean ± std. dev. of 7 runs, 1 loop each)\n"
     ]
    }
   ],
   "source": [
    "%%timeit\n",
    "\n",
    "for i, row in df.iterrows():\n",
    "    if row.city == 'new york':\n",
    "        df.loc[i, 'sales_factor'] = row.booked_perc * 2\n",
    "    else:\n",
    "        df.loc[i, 'sales_factor'] = 0"
   ]
  },
  {
   "cell_type": "markdown",
   "metadata": {},
   "source": [
    "A slightly better approach is using apply function directly on a DataFrame."
   ]
  },
  {
   "cell_type": "code",
   "execution_count": 14,
   "metadata": {},
   "outputs": [
    {
     "name": "stdout",
     "output_type": "stream",
     "text": [
      "165 ms ± 2.48 ms per loop (mean ± std. dev. of 7 runs, 10 loops each)\n"
     ]
    }
   ],
   "source": [
    "%%timeit\n",
    "\n",
    "def calculate_sales_factor(row):\n",
    "    if row.city == 'new york':\n",
    "        return row.booked_perc * 2\n",
    "    return 0\n",
    "\n",
    "df['sales_factor'] = df.apply(calculate_sales_factor, axis=1)"
   ]
  },
  {
   "cell_type": "markdown",
   "metadata": {},
   "source": [
    "The fastest way is to use pandas filter and calculate the function values directly."
   ]
  },
  {
   "cell_type": "code",
   "execution_count": 15,
   "metadata": {},
   "outputs": [
    {
     "name": "stdout",
     "output_type": "stream",
     "text": [
      "3.03 ms ± 85.5 µs per loop (mean ± std. dev. of 7 runs, 100 loops each)\n"
     ]
    }
   ],
   "source": [
    "%%timeit \n",
    "\n",
    "df.loc[df.city == 'new york', 'sales_factor'] = df[df.city == 'new york'].booked_perc * 2\n",
    "df.sales_factor.fillna(0, inplace=True)"
   ]
  },
  {
   "cell_type": "markdown",
   "metadata": {},
   "source": [
    "We can observe the speedup from the first to the last example.\n",
    "\n",
    "When we are dealing with function with 3 or more variables, we can break it down to multiple pandas expressions.\n",
    "It will be faster than using the apply function.\n",
    "\n",
    "Eg: `f(x, a, b) = (a + b) * x`\n",
    "```\n",
    "df['a_plus_b'] = df['a'] + df['b']\n",
    "df['f'] = df['a_plus_b'] * df['x']\n",
    "```"
   ]
  },
  {
   "cell_type": "markdown",
   "metadata": {},
   "source": [
    "## 5. How NOT to group data\n",
    "\n",
    "As you've seen by now, I was relying on for loops a lot when I started using pandas.\n",
    "With the grouping of data, you can reduce the number of lines of code when using pandas to its full potential.\n",
    "\n",
    "Let's say we would like to calculate: \n",
    "- the average sales factor by the city\n",
    "- and the first booking id by the city."
   ]
  },
  {
   "cell_type": "code",
   "execution_count": 16,
   "metadata": {},
   "outputs": [
    {
     "name": "stdout",
     "output_type": "stream",
     "text": [
      "878 ms ± 21.4 ms per loop (mean ± std. dev. of 7 runs, 1 loop each)\n"
     ]
    }
   ],
   "source": [
    "%%timeit \n",
    "\n",
    "avg_by_city = {}\n",
    "count_by_city = {}\n",
    "first_booking_by_city = {}\n",
    "\n",
    "for i, row in df.iterrows():\n",
    "    city = row.city\n",
    "    if city in avg_by_city:\n",
    "        avg_by_city[city] += row.sales_factor\n",
    "        count_by_city[city] += 1\n",
    "    else:\n",
    "        avg_by_city[city] = row.sales_factor\n",
    "        count_by_city[city] = 1\n",
    "        first_booking_by_city[city] = row['id']\n",
    "\n",
    "for city, _ in avg_by_city.items():\n",
    "    avg_by_city[city] /= count_by_city[city]"
   ]
  },
  {
   "cell_type": "markdown",
   "metadata": {},
   "source": [
    "Pandas has a group by operation so there is no need to iterate over a DataFrame.\n",
    "group by in pandas does the same thing as GROUP BY statement in SQL."
   ]
  },
  {
   "cell_type": "code",
   "execution_count": 17,
   "metadata": {},
   "outputs": [
    {
     "name": "stdout",
     "output_type": "stream",
     "text": [
      "3.05 ms ± 65.3 µs per loop (mean ± std. dev. of 7 runs, 100 loops each)\n"
     ]
    }
   ],
   "source": [
    "%%timeit\n",
    "\n",
    "df.groupby('city').sales_factor.mean()\n",
    "df.groupby('city').sales_factor.count()\n",
    "df.groupby('city').id.first()"
   ]
  },
  {
   "cell_type": "code",
   "execution_count": 18,
   "metadata": {},
   "outputs": [
    {
     "name": "stdout",
     "output_type": "stream",
     "text": [
      "4.5 ms ± 131 µs per loop (mean ± std. dev. of 7 runs, 100 loops each)\n"
     ]
    }
   ],
   "source": [
    "%%timeit\n",
    "\n",
    "df.groupby(\"city\").agg({\"sales_factor\": [\"mean\", \"count\"], \"id\": \"first\"})"
   ]
  },
  {
   "cell_type": "markdown",
   "metadata": {},
   "source": [
    "Surprisingly, the third example is not the fastest, but it is more concise than the second example.\n",
    "I would suggest you use the second approach when you need to speed up your code."
   ]
  },
  {
   "cell_type": "markdown",
   "metadata": {},
   "source": [
    "## Conclusion\n",
    "\n",
    "My advice is: <b>If you are using for loops with pandas, there is most probably a better way to write it..</b>\n",
    "\n",
    "There exist computationally expensive functions where even optimizations above don't help. Then we need to use the last resort: Cython and Numba, which I am going to cover in the following weeks.\n",
    "Did you enjoy the post? Learned something new? Let me know in the comments below."
   ]
  }
 ],
 "metadata": {
  "kernelspec": {
   "display_name": "Python 3",
   "language": "python",
   "name": "python3"
  },
  "language_info": {
   "codemirror_mode": {
    "name": "ipython",
    "version": 3
   },
   "file_extension": ".py",
   "mimetype": "text/x-python",
   "name": "python",
   "nbconvert_exporter": "python",
   "pygments_lexer": "ipython3",
   "version": "3.7.3"
  }
 },
 "nbformat": 4,
 "nbformat_minor": 4
}
