{
 "cells": [
  {
   "cell_type": "markdown",
   "metadata": {},
   "source": [
    "# Interactive plotting with Bokeh"
   ]
  },
  {
   "cell_type": "markdown",
   "metadata": {},
   "source": [
    "As a JupyterLab power user, I like using Bokeh for plotting because of its interactive plots.\n",
    "JupyterLab also offers an [extension for interactive matplotlib](https://github.com/matplotlib/jupyter-matplotlib), but it is slow and it crashes with bigger datasets.\n",
    "\n",
    "A thing I don't like about Bokeh is its overwhelming documentation and complex examples.\n",
    "Sometimes I want to make a simple line plot and I struggle with 10 or more lines of Bohek specific code. \n",
    "But Bokeh code can be very concise as I am going to show below.\n",
    "This is also the main goal, to show a few useful data visualizations with as little code as possible.      \n",
    "\n",
    "Haven't heard of [Bokeh](https://bokeh.pydata.org/en/latest/)? Description from its website nicely sums it up:\n",
    "\n",
    "Bokeh is an interactive visualization library that targets modern web browsers for presentation. Its goal is to provide elegant, concise construction of versatile graphics, and to extend this capability with high-performance interactivity over very large or streaming datasets. Bokeh can help anyone who would like to quickly and easily create interactive plots, dashboards, and data applications.\n",
    "\n",
    "You can run this code by downloading this [Jupyter notebook]({{site.url}}/assets/notebooks/2019-02-11-interactive-plotting-with-bokeh.ipynb)."
   ]
  },
  {
   "cell_type": "markdown",
   "metadata": {},
   "source": [
    "## Requirements"
   ]
  },
  {
   "cell_type": "code",
   "execution_count": 8,
   "metadata": {},
   "outputs": [
    {
     "data": {
      "text/html": [
       "\n",
       "    <div class=\"bk-root\">\n",
       "        <a href=\"https://bokeh.pydata.org\" target=\"_blank\" class=\"bk-logo bk-logo-small bk-logo-notebook\"></a>\n",
       "        <span id=\"1386\">Loading BokehJS ...</span>\n",
       "    </div>"
      ]
     },
     "metadata": {},
     "output_type": "display_data"
    },
    {
     "data": {
      "application/javascript": [
       "\n",
       "(function(root) {\n",
       "  function now() {\n",
       "    return new Date();\n",
       "  }\n",
       "\n",
       "  var force = true;\n",
       "\n",
       "  if (typeof (root._bokeh_onload_callbacks) === \"undefined\" || force === true) {\n",
       "    root._bokeh_onload_callbacks = [];\n",
       "    root._bokeh_is_loading = undefined;\n",
       "  }\n",
       "\n",
       "  var JS_MIME_TYPE = 'application/javascript';\n",
       "  var HTML_MIME_TYPE = 'text/html';\n",
       "  var EXEC_MIME_TYPE = 'application/vnd.bokehjs_exec.v0+json';\n",
       "  var CLASS_NAME = 'output_bokeh rendered_html';\n",
       "\n",
       "  /**\n",
       "   * Render data to the DOM node\n",
       "   */\n",
       "  function render(props, node) {\n",
       "    var script = document.createElement(\"script\");\n",
       "    node.appendChild(script);\n",
       "  }\n",
       "\n",
       "  /**\n",
       "   * Handle when an output is cleared or removed\n",
       "   */\n",
       "  function handleClearOutput(event, handle) {\n",
       "    var cell = handle.cell;\n",
       "\n",
       "    var id = cell.output_area._bokeh_element_id;\n",
       "    var server_id = cell.output_area._bokeh_server_id;\n",
       "    // Clean up Bokeh references\n",
       "    if (id != null && id in Bokeh.index) {\n",
       "      Bokeh.index[id].model.document.clear();\n",
       "      delete Bokeh.index[id];\n",
       "    }\n",
       "\n",
       "    if (server_id !== undefined) {\n",
       "      // Clean up Bokeh references\n",
       "      var cmd = \"from bokeh.io.state import curstate; print(curstate().uuid_to_server['\" + server_id + \"'].get_sessions()[0].document.roots[0]._id)\";\n",
       "      cell.notebook.kernel.execute(cmd, {\n",
       "        iopub: {\n",
       "          output: function(msg) {\n",
       "            var id = msg.content.text.trim();\n",
       "            if (id in Bokeh.index) {\n",
       "              Bokeh.index[id].model.document.clear();\n",
       "              delete Bokeh.index[id];\n",
       "            }\n",
       "          }\n",
       "        }\n",
       "      });\n",
       "      // Destroy server and session\n",
       "      var cmd = \"import bokeh.io.notebook as ion; ion.destroy_server('\" + server_id + \"')\";\n",
       "      cell.notebook.kernel.execute(cmd);\n",
       "    }\n",
       "  }\n",
       "\n",
       "  /**\n",
       "   * Handle when a new output is added\n",
       "   */\n",
       "  function handleAddOutput(event, handle) {\n",
       "    var output_area = handle.output_area;\n",
       "    var output = handle.output;\n",
       "\n",
       "    // limit handleAddOutput to display_data with EXEC_MIME_TYPE content only\n",
       "    if ((output.output_type != \"display_data\") || (!output.data.hasOwnProperty(EXEC_MIME_TYPE))) {\n",
       "      return\n",
       "    }\n",
       "\n",
       "    var toinsert = output_area.element.find(\".\" + CLASS_NAME.split(' ')[0]);\n",
       "\n",
       "    if (output.metadata[EXEC_MIME_TYPE][\"id\"] !== undefined) {\n",
       "      toinsert[toinsert.length - 1].firstChild.textContent = output.data[JS_MIME_TYPE];\n",
       "      // store reference to embed id on output_area\n",
       "      output_area._bokeh_element_id = output.metadata[EXEC_MIME_TYPE][\"id\"];\n",
       "    }\n",
       "    if (output.metadata[EXEC_MIME_TYPE][\"server_id\"] !== undefined) {\n",
       "      var bk_div = document.createElement(\"div\");\n",
       "      bk_div.innerHTML = output.data[HTML_MIME_TYPE];\n",
       "      var script_attrs = bk_div.children[0].attributes;\n",
       "      for (var i = 0; i < script_attrs.length; i++) {\n",
       "        toinsert[toinsert.length - 1].firstChild.setAttribute(script_attrs[i].name, script_attrs[i].value);\n",
       "      }\n",
       "      // store reference to server id on output_area\n",
       "      output_area._bokeh_server_id = output.metadata[EXEC_MIME_TYPE][\"server_id\"];\n",
       "    }\n",
       "  }\n",
       "\n",
       "  function register_renderer(events, OutputArea) {\n",
       "\n",
       "    function append_mime(data, metadata, element) {\n",
       "      // create a DOM node to render to\n",
       "      var toinsert = this.create_output_subarea(\n",
       "        metadata,\n",
       "        CLASS_NAME,\n",
       "        EXEC_MIME_TYPE\n",
       "      );\n",
       "      this.keyboard_manager.register_events(toinsert);\n",
       "      // Render to node\n",
       "      var props = {data: data, metadata: metadata[EXEC_MIME_TYPE]};\n",
       "      render(props, toinsert[toinsert.length - 1]);\n",
       "      element.append(toinsert);\n",
       "      return toinsert\n",
       "    }\n",
       "\n",
       "    /* Handle when an output is cleared or removed */\n",
       "    events.on('clear_output.CodeCell', handleClearOutput);\n",
       "    events.on('delete.Cell', handleClearOutput);\n",
       "\n",
       "    /* Handle when a new output is added */\n",
       "    events.on('output_added.OutputArea', handleAddOutput);\n",
       "\n",
       "    /**\n",
       "     * Register the mime type and append_mime function with output_area\n",
       "     */\n",
       "    OutputArea.prototype.register_mime_type(EXEC_MIME_TYPE, append_mime, {\n",
       "      /* Is output safe? */\n",
       "      safe: true,\n",
       "      /* Index of renderer in `output_area.display_order` */\n",
       "      index: 0\n",
       "    });\n",
       "  }\n",
       "\n",
       "  // register the mime type if in Jupyter Notebook environment and previously unregistered\n",
       "  if (root.Jupyter !== undefined) {\n",
       "    var events = require('base/js/events');\n",
       "    var OutputArea = require('notebook/js/outputarea').OutputArea;\n",
       "\n",
       "    if (OutputArea.prototype.mime_types().indexOf(EXEC_MIME_TYPE) == -1) {\n",
       "      register_renderer(events, OutputArea);\n",
       "    }\n",
       "  }\n",
       "\n",
       "  \n",
       "  if (typeof (root._bokeh_timeout) === \"undefined\" || force === true) {\n",
       "    root._bokeh_timeout = Date.now() + 5000;\n",
       "    root._bokeh_failed_load = false;\n",
       "  }\n",
       "\n",
       "  var NB_LOAD_WARNING = {'data': {'text/html':\n",
       "     \"<div style='background-color: #fdd'>\\n\"+\n",
       "     \"<p>\\n\"+\n",
       "     \"BokehJS does not appear to have successfully loaded. If loading BokehJS from CDN, this \\n\"+\n",
       "     \"may be due to a slow or bad network connection. Possible fixes:\\n\"+\n",
       "     \"</p>\\n\"+\n",
       "     \"<ul>\\n\"+\n",
       "     \"<li>re-rerun `output_notebook()` to attempt to load from CDN again, or</li>\\n\"+\n",
       "     \"<li>use INLINE resources instead, as so:</li>\\n\"+\n",
       "     \"</ul>\\n\"+\n",
       "     \"<code>\\n\"+\n",
       "     \"from bokeh.resources import INLINE\\n\"+\n",
       "     \"output_notebook(resources=INLINE)\\n\"+\n",
       "     \"</code>\\n\"+\n",
       "     \"</div>\"}};\n",
       "\n",
       "  function display_loaded() {\n",
       "    var el = document.getElementById(\"1386\");\n",
       "    if (el != null) {\n",
       "      el.textContent = \"BokehJS is loading...\";\n",
       "    }\n",
       "    if (root.Bokeh !== undefined) {\n",
       "      if (el != null) {\n",
       "        el.textContent = \"BokehJS \" + root.Bokeh.version + \" successfully loaded.\";\n",
       "      }\n",
       "    } else if (Date.now() < root._bokeh_timeout) {\n",
       "      setTimeout(display_loaded, 100)\n",
       "    }\n",
       "  }\n",
       "\n",
       "\n",
       "  function run_callbacks() {\n",
       "    try {\n",
       "      root._bokeh_onload_callbacks.forEach(function(callback) { callback() });\n",
       "    }\n",
       "    finally {\n",
       "      delete root._bokeh_onload_callbacks\n",
       "    }\n",
       "    console.info(\"Bokeh: all callbacks have finished\");\n",
       "  }\n",
       "\n",
       "  function load_libs(js_urls, callback) {\n",
       "    root._bokeh_onload_callbacks.push(callback);\n",
       "    if (root._bokeh_is_loading > 0) {\n",
       "      console.log(\"Bokeh: BokehJS is being loaded, scheduling callback at\", now());\n",
       "      return null;\n",
       "    }\n",
       "    if (js_urls == null || js_urls.length === 0) {\n",
       "      run_callbacks();\n",
       "      return null;\n",
       "    }\n",
       "    console.log(\"Bokeh: BokehJS not loaded, scheduling load and callback at\", now());\n",
       "    root._bokeh_is_loading = js_urls.length;\n",
       "    for (var i = 0; i < js_urls.length; i++) {\n",
       "      var url = js_urls[i];\n",
       "      var s = document.createElement('script');\n",
       "      s.src = url;\n",
       "      s.async = false;\n",
       "      s.onreadystatechange = s.onload = function() {\n",
       "        root._bokeh_is_loading--;\n",
       "        if (root._bokeh_is_loading === 0) {\n",
       "          console.log(\"Bokeh: all BokehJS libraries loaded\");\n",
       "          run_callbacks()\n",
       "        }\n",
       "      };\n",
       "      s.onerror = function() {\n",
       "        console.warn(\"failed to load library \" + url);\n",
       "      };\n",
       "      console.log(\"Bokeh: injecting script tag for BokehJS library: \", url);\n",
       "      document.getElementsByTagName(\"head\")[0].appendChild(s);\n",
       "    }\n",
       "  };var element = document.getElementById(\"1386\");\n",
       "  if (element == null) {\n",
       "    console.log(\"Bokeh: ERROR: autoload.js configured with elementid '1386' but no matching script tag was found. \")\n",
       "    return false;\n",
       "  }\n",
       "\n",
       "  var js_urls = [\"https://cdn.pydata.org/bokeh/release/bokeh-1.0.4.min.js\", \"https://cdn.pydata.org/bokeh/release/bokeh-widgets-1.0.4.min.js\", \"https://cdn.pydata.org/bokeh/release/bokeh-tables-1.0.4.min.js\", \"https://cdn.pydata.org/bokeh/release/bokeh-gl-1.0.4.min.js\"];\n",
       "\n",
       "  var inline_js = [\n",
       "    function(Bokeh) {\n",
       "      Bokeh.set_log_level(\"info\");\n",
       "    },\n",
       "    \n",
       "    function(Bokeh) {\n",
       "      \n",
       "    },\n",
       "    function(Bokeh) {\n",
       "      console.log(\"Bokeh: injecting CSS: https://cdn.pydata.org/bokeh/release/bokeh-1.0.4.min.css\");\n",
       "      Bokeh.embed.inject_css(\"https://cdn.pydata.org/bokeh/release/bokeh-1.0.4.min.css\");\n",
       "      console.log(\"Bokeh: injecting CSS: https://cdn.pydata.org/bokeh/release/bokeh-widgets-1.0.4.min.css\");\n",
       "      Bokeh.embed.inject_css(\"https://cdn.pydata.org/bokeh/release/bokeh-widgets-1.0.4.min.css\");\n",
       "      console.log(\"Bokeh: injecting CSS: https://cdn.pydata.org/bokeh/release/bokeh-tables-1.0.4.min.css\");\n",
       "      Bokeh.embed.inject_css(\"https://cdn.pydata.org/bokeh/release/bokeh-tables-1.0.4.min.css\");\n",
       "    }\n",
       "  ];\n",
       "\n",
       "  function run_inline_js() {\n",
       "    \n",
       "    if ((root.Bokeh !== undefined) || (force === true)) {\n",
       "      for (var i = 0; i < inline_js.length; i++) {\n",
       "        inline_js[i].call(root, root.Bokeh);\n",
       "      }if (force === true) {\n",
       "        display_loaded();\n",
       "      }} else if (Date.now() < root._bokeh_timeout) {\n",
       "      setTimeout(run_inline_js, 100);\n",
       "    } else if (!root._bokeh_failed_load) {\n",
       "      console.log(\"Bokeh: BokehJS failed to load within specified timeout.\");\n",
       "      root._bokeh_failed_load = true;\n",
       "    } else if (force !== true) {\n",
       "      var cell = $(document.getElementById(\"1386\")).parents('.cell').data().cell;\n",
       "      cell.output_area.append_execute_result(NB_LOAD_WARNING)\n",
       "    }\n",
       "\n",
       "  }\n",
       "\n",
       "  if (root._bokeh_is_loading === 0) {\n",
       "    console.log(\"Bokeh: BokehJS loaded, going straight to plotting\");\n",
       "    run_inline_js();\n",
       "  } else {\n",
       "    load_libs(js_urls, function() {\n",
       "      console.log(\"Bokeh: BokehJS plotting callback run at\", now());\n",
       "      run_inline_js();\n",
       "    });\n",
       "  }\n",
       "}(window));"
      ],
      "application/vnd.bokehjs_load.v0+json": "\n(function(root) {\n  function now() {\n    return new Date();\n  }\n\n  var force = true;\n\n  if (typeof (root._bokeh_onload_callbacks) === \"undefined\" || force === true) {\n    root._bokeh_onload_callbacks = [];\n    root._bokeh_is_loading = undefined;\n  }\n\n  \n\n  \n  if (typeof (root._bokeh_timeout) === \"undefined\" || force === true) {\n    root._bokeh_timeout = Date.now() + 5000;\n    root._bokeh_failed_load = false;\n  }\n\n  var NB_LOAD_WARNING = {'data': {'text/html':\n     \"<div style='background-color: #fdd'>\\n\"+\n     \"<p>\\n\"+\n     \"BokehJS does not appear to have successfully loaded. If loading BokehJS from CDN, this \\n\"+\n     \"may be due to a slow or bad network connection. Possible fixes:\\n\"+\n     \"</p>\\n\"+\n     \"<ul>\\n\"+\n     \"<li>re-rerun `output_notebook()` to attempt to load from CDN again, or</li>\\n\"+\n     \"<li>use INLINE resources instead, as so:</li>\\n\"+\n     \"</ul>\\n\"+\n     \"<code>\\n\"+\n     \"from bokeh.resources import INLINE\\n\"+\n     \"output_notebook(resources=INLINE)\\n\"+\n     \"</code>\\n\"+\n     \"</div>\"}};\n\n  function display_loaded() {\n    var el = document.getElementById(\"1386\");\n    if (el != null) {\n      el.textContent = \"BokehJS is loading...\";\n    }\n    if (root.Bokeh !== undefined) {\n      if (el != null) {\n        el.textContent = \"BokehJS \" + root.Bokeh.version + \" successfully loaded.\";\n      }\n    } else if (Date.now() < root._bokeh_timeout) {\n      setTimeout(display_loaded, 100)\n    }\n  }\n\n\n  function run_callbacks() {\n    try {\n      root._bokeh_onload_callbacks.forEach(function(callback) { callback() });\n    }\n    finally {\n      delete root._bokeh_onload_callbacks\n    }\n    console.info(\"Bokeh: all callbacks have finished\");\n  }\n\n  function load_libs(js_urls, callback) {\n    root._bokeh_onload_callbacks.push(callback);\n    if (root._bokeh_is_loading > 0) {\n      console.log(\"Bokeh: BokehJS is being loaded, scheduling callback at\", now());\n      return null;\n    }\n    if (js_urls == null || js_urls.length === 0) {\n      run_callbacks();\n      return null;\n    }\n    console.log(\"Bokeh: BokehJS not loaded, scheduling load and callback at\", now());\n    root._bokeh_is_loading = js_urls.length;\n    for (var i = 0; i < js_urls.length; i++) {\n      var url = js_urls[i];\n      var s = document.createElement('script');\n      s.src = url;\n      s.async = false;\n      s.onreadystatechange = s.onload = function() {\n        root._bokeh_is_loading--;\n        if (root._bokeh_is_loading === 0) {\n          console.log(\"Bokeh: all BokehJS libraries loaded\");\n          run_callbacks()\n        }\n      };\n      s.onerror = function() {\n        console.warn(\"failed to load library \" + url);\n      };\n      console.log(\"Bokeh: injecting script tag for BokehJS library: \", url);\n      document.getElementsByTagName(\"head\")[0].appendChild(s);\n    }\n  };var element = document.getElementById(\"1386\");\n  if (element == null) {\n    console.log(\"Bokeh: ERROR: autoload.js configured with elementid '1386' but no matching script tag was found. \")\n    return false;\n  }\n\n  var js_urls = [\"https://cdn.pydata.org/bokeh/release/bokeh-1.0.4.min.js\", \"https://cdn.pydata.org/bokeh/release/bokeh-widgets-1.0.4.min.js\", \"https://cdn.pydata.org/bokeh/release/bokeh-tables-1.0.4.min.js\", \"https://cdn.pydata.org/bokeh/release/bokeh-gl-1.0.4.min.js\"];\n\n  var inline_js = [\n    function(Bokeh) {\n      Bokeh.set_log_level(\"info\");\n    },\n    \n    function(Bokeh) {\n      \n    },\n    function(Bokeh) {\n      console.log(\"Bokeh: injecting CSS: https://cdn.pydata.org/bokeh/release/bokeh-1.0.4.min.css\");\n      Bokeh.embed.inject_css(\"https://cdn.pydata.org/bokeh/release/bokeh-1.0.4.min.css\");\n      console.log(\"Bokeh: injecting CSS: https://cdn.pydata.org/bokeh/release/bokeh-widgets-1.0.4.min.css\");\n      Bokeh.embed.inject_css(\"https://cdn.pydata.org/bokeh/release/bokeh-widgets-1.0.4.min.css\");\n      console.log(\"Bokeh: injecting CSS: https://cdn.pydata.org/bokeh/release/bokeh-tables-1.0.4.min.css\");\n      Bokeh.embed.inject_css(\"https://cdn.pydata.org/bokeh/release/bokeh-tables-1.0.4.min.css\");\n    }\n  ];\n\n  function run_inline_js() {\n    \n    if ((root.Bokeh !== undefined) || (force === true)) {\n      for (var i = 0; i < inline_js.length; i++) {\n        inline_js[i].call(root, root.Bokeh);\n      }if (force === true) {\n        display_loaded();\n      }} else if (Date.now() < root._bokeh_timeout) {\n      setTimeout(run_inline_js, 100);\n    } else if (!root._bokeh_failed_load) {\n      console.log(\"Bokeh: BokehJS failed to load within specified timeout.\");\n      root._bokeh_failed_load = true;\n    } else if (force !== true) {\n      var cell = $(document.getElementById(\"1386\")).parents('.cell').data().cell;\n      cell.output_area.append_execute_result(NB_LOAD_WARNING)\n    }\n\n  }\n\n  if (root._bokeh_is_loading === 0) {\n    console.log(\"Bokeh: BokehJS loaded, going straight to plotting\");\n    run_inline_js();\n  } else {\n    load_libs(js_urls, function() {\n      console.log(\"Bokeh: BokehJS plotting callback run at\", now());\n      run_inline_js();\n    });\n  }\n}(window));"
     },
     "metadata": {},
     "output_type": "display_data"
    }
   ],
   "source": [
    "import bokeh\n",
    "import numpy as np\n",
    "from bokeh.models import Circle, ColumnDataSource, Line, LinearAxis, Range1d\n",
    "from bokeh.plotting import figure, output_notebook, show, o\n",
    "from bokeh.core.properties import value\n",
    "\n",
    "from bokeh.plotting import figure, output_file, show\n",
    "\n",
    "output_notebook()  # output bokeh plots to jupyter notebook\n",
    "np.random.seed(42)"
   ]
  },
  {
   "cell_type": "code",
   "execution_count": 2,
   "metadata": {},
   "outputs": [
    {
     "name": "stdout",
     "output_type": "stream",
     "text": [
      "bokeh 1.0.4\n",
      "numpy 1.15.1\n"
     ]
    }
   ],
   "source": [
    "print(\"bokeh\", bokeh.__version__)\n",
    "print(\"numpy\", np.__version__)"
   ]
  },
  {
   "cell_type": "markdown",
   "metadata": {},
   "source": [
    "## Generata data\n",
    "\n",
    "Let us generate some random data using numpy.\n",
    "Bokeh has its own data structure (ColumnDataSource) for data representation. \n",
    "I am not sure why they developed their own data structure as pandas and numpy are De facto standard in Python analytics world (enlighten me in the comments below if you know).\n",
    "But luckily it works also with pandas. For this blog post, I decided to write examples on Bokeh way with its data structures."
   ]
  },
  {
   "cell_type": "code",
   "execution_count": 3,
   "metadata": {},
   "outputs": [],
   "source": [
    "N = 100\n",
    "data_source = ColumnDataSource(\n",
    "    data=dict(\n",
    "        x0=np.arange(N),\n",
    "        x1=np.random.standard_normal(size=N),\n",
    "        x2=np.arange(10,N+10),\n",
    "        x3=np.random.standard_normal(size=N),\n",
    "    )\n",
    ")"
   ]
  },
  {
   "cell_type": "markdown",
   "metadata": {},
   "source": [
    "## Simple line plot\n",
    "\n",
    "To make a simple line plot in Bohek we need 3 lines of code. That's not too bad. Note that the plot is interactive of the box, we can zoom in and move around, which is very useful with bigger datasets."
   ]
  },
  {
   "cell_type": "code",
   "execution_count": 10,
   "metadata": {},
   "outputs": [
    {
     "data": {
      "text/html": [
       "\n",
       "\n",
       "\n",
       "\n",
       "\n",
       "\n",
       "  <div class=\"bk-root\" id=\"10daf6fc-ea40-42d8-af71-b66ed0801f09\" data-root-id=\"1600\"></div>\n"
      ]
     },
     "metadata": {},
     "output_type": "display_data"
    },
    {
     "data": {
      "application/javascript": [
       "(function(root) {\n",
       "  function embed_document(root) {\n",
       "    \n",
       "  var docs_json = {\"34130728-151c-426c-85d0-b11751341395\":{\"roots\":{\"references\":[{\"attributes\":{\"below\":[{\"id\":\"1609\",\"type\":\"LinearAxis\"}],\"left\":[{\"id\":\"1614\",\"type\":\"LinearAxis\"}],\"renderers\":[{\"id\":\"1609\",\"type\":\"LinearAxis\"},{\"id\":\"1613\",\"type\":\"Grid\"},{\"id\":\"1614\",\"type\":\"LinearAxis\"},{\"id\":\"1618\",\"type\":\"Grid\"},{\"id\":\"1627\",\"type\":\"BoxAnnotation\"},{\"id\":\"1637\",\"type\":\"GlyphRenderer\"}],\"title\":{\"id\":\"1678\",\"type\":\"Title\"},\"toolbar\":{\"id\":\"1625\",\"type\":\"Toolbar\"},\"x_range\":{\"id\":\"1601\",\"type\":\"DataRange1d\"},\"x_scale\":{\"id\":\"1605\",\"type\":\"LinearScale\"},\"y_range\":{\"id\":\"1603\",\"type\":\"DataRange1d\"},\"y_scale\":{\"id\":\"1607\",\"type\":\"LinearScale\"}},\"id\":\"1600\",\"subtype\":\"Figure\",\"type\":\"Plot\"},{\"attributes\":{\"bottom_units\":\"screen\",\"fill_alpha\":{\"value\":0.5},\"fill_color\":{\"value\":\"lightgrey\"},\"left_units\":\"screen\",\"level\":\"overlay\",\"line_alpha\":{\"value\":1.0},\"line_color\":{\"value\":\"black\"},\"line_dash\":[4,4],\"line_width\":{\"value\":2},\"plot\":null,\"render_mode\":\"css\",\"right_units\":\"screen\",\"top_units\":\"screen\"},\"id\":\"1627\",\"type\":\"BoxAnnotation\"},{\"attributes\":{\"callback\":null,\"data\":{\"x0\":[0,1,2,3,4,5,6,7,8,9,10,11,12,13,14,15,16,17,18,19,20,21,22,23,24,25,26,27,28,29,30,31,32,33,34,35,36,37,38,39,40,41,42,43,44,45,46,47,48,49,50,51,52,53,54,55,56,57,58,59,60,61,62,63,64,65,66,67,68,69,70,71,72,73,74,75,76,77,78,79,80,81,82,83,84,85,86,87,88,89,90,91,92,93,94,95,96,97,98,99],\"x1\":{\"__ndarray__\":\"fDCpKCrK3z8qBd4FpbLBv2heJFDdueQ/K6oBjlRe+D9AplffvPjNvzvbcCYz+M2/CHRAqHRE+T/z1/BG047oP4ueeUveC96/fS1q4aZc4T9wG8Guoqjdv+fvFiuEzt2/cPmepZ74zj++Ne6+y5z+vxLk7nBDmfu/YzyhakL+4b95UaNnjjTwvx+GFtigHNQ/+QOLgYgO7b/HExTEy5j2v0ENnx9Mc/c/2Zhm4TzmzL/GNbFGh0mxP2InDcHEy/a/KPrKUZVr4b81BjE/bGW8PxX1zj14avK/6N19s28L2D/SOz2hbjjjv6DS80Icq9K/p/2pOS5B479X9hhz7qL9P4aDsNZupIu/RsyHS2Ls8L83Lh+1SVLqPxx64lmTiPO/tWnv0gq8yj/DMFAPz1r/v/9asANAQPW/QDr0vL8yyT++nUiqhKHnPwwupFVl78U/XzGyNiCbvb/hr1BvSEXTvwa4sKwGqPe/J6aouPYI57/ZriIKG3vdv2LC1/746fA/iEEAkdf91T9OFQ2YaTX8vzhYbbDKvdQ/QA8qJjCl2L9NOahTWKnlv/nsCSfakuM/1Pz0Wvl+8D8enOD2C83tP1MVD7Xe2uq/zylztCLK07+KTA+JazPVPwBoGGqqN+8/VWYobMqq3r8Tbn1grMPHvzBuPE2Ms/G/9PWajqkj87+w1UonNgDqP/3Ng74os/U/+iMrXUFvsr9qgA6DeA7wP0KkKG0LJdc/rwoBL9Kk5L+P6aQIGyHXPyBgEDvMm/g/UhmlZMpXor8x1znJxwj5P19fz+s89QTAv1gZewZN6j8grkt3t0i2P7/t4LnvItO/OIpGXqJ9tz/iHOwPFc3/v8FsDls1Hsy/04nor+7a1j8349E5dKX3PzA8v2yrleC/S3Lu+S3f6b+hdpfJZA7gv5AGx2H5Su0/gMUgGEIK1T/02ryry/PgvwNc6tKvbOA/OiugAxPauD9TvHjHI//uP3hIyAw4d+a/l5Lxpmr41L8apYzLTBjZvxD0dqaOave/IzBrdqLz0j8UgR0sIbXQPw06yBDZ8XQ/hE70gPMGzr8=\",\"dtype\":\"float64\",\"shape\":[100]},\"x2\":[10,11,12,13,14,15,16,17,18,19,20,21,22,23,24,25,26,27,28,29,30,31,32,33,34,35,36,37,38,39,40,41,42,43,44,45,46,47,48,49,50,51,52,53,54,55,56,57,58,59,60,61,62,63,64,65,66,67,68,69,70,71,72,73,74,75,76,77,78,79,80,81,82,83,84,85,86,87,88,89,90,91,92,93,94,95,96,97,98,99,100,101,102,103,104,105,106,107,108,109],\"x3\":{\"__ndarray__\":\"BCaNylul9r90hh9c2uvavws0Ft4I79W/fDE0YUGs6b/Ac3WcAqXEvzMc/B/429k/GwJ+RNEt/j+RJ1zWkFjGP517TqK0e9A/YFWJNeMOs7/tciNySbP+vzhGxw90Jpu/rRjbe37Wrj+4CNpHuLQDQOSGYbpIn8i/cjBhOY1M0z8IMle3vcWhv88R8r3nsvK/XG9XkwBJ8j9WfwXd1Q/oP9CD1DoiUOk//I03uLMZ7b80xIdy2HH2PxrkSGH7bfa/S4cph4jH4j9pi2GZDYYBQGn2PTx5su+/syyOahwf4r/knA16wIK5P29cmPl4HOC/2oM4dYTP+L/WI4LWV42xP6z3zS0y//C/LYVNoFZP3j+P4yVf7Gvtv8btxwSIzPg/3zBiNWkQ6b/G09nnp5zUv6+9akJVCOo/EVsOyJ6x879VNCM6aB3NP9OKTYUO6vQ/uPAUV0C4+b9xtRAQFaLHP87DhXHrodA/FIwxZrEE6T/Ywx/UjMrzvwa+Dx2XIPW/c+xXzL6z4D81ybwAzAHTP9yCByoTCNA/bQZjHDUs1j8B1nQ0w8Llv50+1zh9us0/Kj4LDLPB0j9/yEiB99vmv987sV822v0/4GTFUEdT3j9piIFBlA/zvwzmpLZ8AuU/U2I0nZcw779TSQgNzC/pPyEIkoSbifI/3Du3kAdD6r/tPhst+tPuP3e1ZrEAa9o/56rQG1FO6j/5fjyZQ1n+P92Zh7bgaM+/8kr3TZse6L+U+RH35nbsvwxYtSseG+q/vzZmCPC8s79JabMXb9XVP3p/jlNNtdE/chRNAUl46j/EwjZjvKCKPwoy0PKsQfc/auDaNiPw0L9MuFAN6MIFQKFsmod3BeQ/fngKr9Vt6799RAssYCLxv2JDLPvT4N4/Gn5stW2azL8Pgm6QF9nmPy3tMXaGSd4/qoMQZuqksr9D/LEj7xjrv/pkh3HQPPi/HGITc7OT3L8ogL5xnmfrPyehqH5sZ8s/3tQeyYvu87+mMWnmyirGP1UCIToKqdg/we3ZY49I7L9MGk6nQ63DP+ihInyIza0/47UXOZtJ8r8=\",\"dtype\":\"float64\",\"shape\":[100]}},\"selected\":{\"id\":\"1048\",\"type\":\"Selection\"},\"selection_policy\":{\"id\":\"1049\",\"type\":\"UnionRenderers\"}},\"id\":\"1002\",\"type\":\"ColumnDataSource\"},{\"attributes\":{\"plot\":null,\"text\":\"\"},\"id\":\"1678\",\"type\":\"Title\"},{\"attributes\":{},\"id\":\"1615\",\"type\":\"BasicTicker\"},{\"attributes\":{\"plot\":{\"id\":\"1600\",\"subtype\":\"Figure\",\"type\":\"Plot\"},\"ticker\":{\"id\":\"1610\",\"type\":\"BasicTicker\"}},\"id\":\"1613\",\"type\":\"Grid\"},{\"attributes\":{},\"id\":\"1610\",\"type\":\"BasicTicker\"},{\"attributes\":{\"line_color\":\"#1f77b4\",\"x\":{\"field\":\"x0\"},\"y\":{\"field\":\"x1\"}},\"id\":\"1635\",\"type\":\"Line\"},{\"attributes\":{\"data_source\":{\"id\":\"1002\",\"type\":\"ColumnDataSource\"},\"glyph\":{\"id\":\"1635\",\"type\":\"Line\"},\"hover_glyph\":null,\"muted_glyph\":null,\"nonselection_glyph\":{\"id\":\"1636\",\"type\":\"Line\"},\"selection_glyph\":null,\"view\":{\"id\":\"1638\",\"type\":\"CDSView\"}},\"id\":\"1637\",\"type\":\"GlyphRenderer\"},{\"attributes\":{\"dimension\":1,\"plot\":{\"id\":\"1600\",\"subtype\":\"Figure\",\"type\":\"Plot\"},\"ticker\":{\"id\":\"1615\",\"type\":\"BasicTicker\"}},\"id\":\"1618\",\"type\":\"Grid\"},{\"attributes\":{},\"id\":\"1605\",\"type\":\"LinearScale\"},{\"attributes\":{},\"id\":\"1619\",\"type\":\"PanTool\"},{\"attributes\":{},\"id\":\"1620\",\"type\":\"WheelZoomTool\"},{\"attributes\":{\"overlay\":{\"id\":\"1627\",\"type\":\"BoxAnnotation\"}},\"id\":\"1621\",\"type\":\"BoxZoomTool\"},{\"attributes\":{\"line_alpha\":0.1,\"line_color\":\"#1f77b4\",\"x\":{\"field\":\"x0\"},\"y\":{\"field\":\"x1\"}},\"id\":\"1636\",\"type\":\"Line\"},{\"attributes\":{},\"id\":\"1048\",\"type\":\"Selection\"},{\"attributes\":{},\"id\":\"1681\",\"type\":\"BasicTickFormatter\"},{\"attributes\":{},\"id\":\"1607\",\"type\":\"LinearScale\"},{\"attributes\":{},\"id\":\"1623\",\"type\":\"ResetTool\"},{\"attributes\":{\"source\":{\"id\":\"1002\",\"type\":\"ColumnDataSource\"}},\"id\":\"1638\",\"type\":\"CDSView\"},{\"attributes\":{\"formatter\":{\"id\":\"1679\",\"type\":\"BasicTickFormatter\"},\"plot\":{\"id\":\"1600\",\"subtype\":\"Figure\",\"type\":\"Plot\"},\"ticker\":{\"id\":\"1610\",\"type\":\"BasicTicker\"}},\"id\":\"1609\",\"type\":\"LinearAxis\"},{\"attributes\":{},\"id\":\"1624\",\"type\":\"HelpTool\"},{\"attributes\":{},\"id\":\"1622\",\"type\":\"SaveTool\"},{\"attributes\":{},\"id\":\"1049\",\"type\":\"UnionRenderers\"},{\"attributes\":{\"formatter\":{\"id\":\"1681\",\"type\":\"BasicTickFormatter\"},\"plot\":{\"id\":\"1600\",\"subtype\":\"Figure\",\"type\":\"Plot\"},\"ticker\":{\"id\":\"1615\",\"type\":\"BasicTicker\"}},\"id\":\"1614\",\"type\":\"LinearAxis\"},{\"attributes\":{\"callback\":null},\"id\":\"1603\",\"type\":\"DataRange1d\"},{\"attributes\":{\"active_drag\":\"auto\",\"active_inspect\":\"auto\",\"active_multi\":null,\"active_scroll\":\"auto\",\"active_tap\":\"auto\",\"tools\":[{\"id\":\"1619\",\"type\":\"PanTool\"},{\"id\":\"1620\",\"type\":\"WheelZoomTool\"},{\"id\":\"1621\",\"type\":\"BoxZoomTool\"},{\"id\":\"1622\",\"type\":\"SaveTool\"},{\"id\":\"1623\",\"type\":\"ResetTool\"},{\"id\":\"1624\",\"type\":\"HelpTool\"}]},\"id\":\"1625\",\"type\":\"Toolbar\"},{\"attributes\":{},\"id\":\"1679\",\"type\":\"BasicTickFormatter\"},{\"attributes\":{\"callback\":null},\"id\":\"1601\",\"type\":\"DataRange1d\"}],\"root_ids\":[\"1600\"]},\"title\":\"Bokeh Application\",\"version\":\"1.0.4\"}};\n",
       "  var render_items = [{\"docid\":\"34130728-151c-426c-85d0-b11751341395\",\"roots\":{\"1600\":\"10daf6fc-ea40-42d8-af71-b66ed0801f09\"}}];\n",
       "  root.Bokeh.embed.embed_items_notebook(docs_json, render_items);\n",
       "\n",
       "  }\n",
       "  if (root.Bokeh !== undefined) {\n",
       "    embed_document(root);\n",
       "  } else {\n",
       "    var attempts = 0;\n",
       "    var timer = setInterval(function(root) {\n",
       "      if (root.Bokeh !== undefined) {\n",
       "        embed_document(root);\n",
       "        clearInterval(timer);\n",
       "      }\n",
       "      attempts++;\n",
       "      if (attempts > 100) {\n",
       "        console.log(\"Bokeh: ERROR: Unable to run BokehJS code because BokehJS library is missing\");\n",
       "        clearInterval(timer);\n",
       "      }\n",
       "    }, 10, root)\n",
       "  }\n",
       "})(window);"
      ],
      "application/vnd.bokehjs_exec.v0+json": ""
     },
     "metadata": {
      "application/vnd.bokehjs_exec.v0+json": {
       "id": "1600"
      }
     },
     "output_type": "display_data"
    }
   ],
   "source": [
    "p = figure()\n",
    "p.line(\"x0\", \"x1\", source=data_source)\n",
    "output_file(\"bokeh-simple-line-plot.html\")\n",
    "show(p)"
   ]
  },
  {
   "cell_type": "markdown",
   "metadata": {},
   "source": [
    "## Line plot with two axes\n",
    "\n",
    "To visualize two data columns with different ranges on a plot we can use two separate y-axes. We can set y-axis ranges but that's not required. I used the min and max values of a data column as a y-axis limit.\n",
    "To visually separate data columns we can add a legend and set the color."
   ]
  },
  {
   "cell_type": "code",
   "execution_count": 5,
   "metadata": {},
   "outputs": [
    {
     "data": {
      "text/html": [
       "\n",
       "\n",
       "\n",
       "\n",
       "\n",
       "\n",
       "  <div class=\"bk-root\" id=\"d4002a27-8ddb-4660-9076-0771676ad509\" data-root-id=\"1105\"></div>\n"
      ]
     },
     "metadata": {},
     "output_type": "display_data"
    },
    {
     "data": {
      "application/javascript": [
       "(function(root) {\n",
       "  function embed_document(root) {\n",
       "    \n",
       "  var docs_json = {\"847a2d9e-a133-4786-95e3-5a4e4941a906\":{\"roots\":{\"references\":[{\"attributes\":{\"below\":[{\"id\":\"1114\",\"type\":\"LinearAxis\"}],\"extra_y_ranges\":{\"x2_range\":{\"id\":\"1154\",\"type\":\"Range1d\"}},\"left\":[{\"id\":\"1119\",\"type\":\"LinearAxis\"}],\"renderers\":[{\"id\":\"1114\",\"type\":\"LinearAxis\"},{\"id\":\"1118\",\"type\":\"Grid\"},{\"id\":\"1119\",\"type\":\"LinearAxis\"},{\"id\":\"1123\",\"type\":\"Grid\"},{\"id\":\"1132\",\"type\":\"BoxAnnotation\"},{\"id\":\"1151\",\"type\":\"Legend\"},{\"id\":\"1142\",\"type\":\"GlyphRenderer\"},{\"id\":\"1155\",\"type\":\"LinearAxis\"},{\"id\":\"1159\",\"type\":\"GlyphRenderer\"}],\"right\":[{\"id\":\"1155\",\"type\":\"LinearAxis\"}],\"title\":{\"id\":\"1145\",\"type\":\"Title\"},\"toolbar\":{\"id\":\"1130\",\"type\":\"Toolbar\"},\"x_range\":{\"id\":\"1106\",\"type\":\"DataRange1d\"},\"x_scale\":{\"id\":\"1110\",\"type\":\"LinearScale\"},\"y_range\":{\"id\":\"1153\",\"type\":\"Range1d\"},\"y_scale\":{\"id\":\"1112\",\"type\":\"LinearScale\"}},\"id\":\"1105\",\"subtype\":\"Figure\",\"type\":\"Plot\"},{\"attributes\":{\"line_color\":\"blue\",\"x\":{\"field\":\"x0\"},\"y\":{\"field\":\"x1\"}},\"id\":\"1140\",\"type\":\"Line\"},{\"attributes\":{\"callback\":null,\"data\":{\"x0\":[0,1,2,3,4,5,6,7,8,9,10,11,12,13,14,15,16,17,18,19,20,21,22,23,24,25,26,27,28,29,30,31,32,33,34,35,36,37,38,39,40,41,42,43,44,45,46,47,48,49,50,51,52,53,54,55,56,57,58,59,60,61,62,63,64,65,66,67,68,69,70,71,72,73,74,75,76,77,78,79,80,81,82,83,84,85,86,87,88,89,90,91,92,93,94,95,96,97,98,99],\"x1\":{\"__ndarray__\":\"fDCpKCrK3z8qBd4FpbLBv2heJFDdueQ/K6oBjlRe+D9AplffvPjNvzvbcCYz+M2/CHRAqHRE+T/z1/BG047oP4ueeUveC96/fS1q4aZc4T9wG8Guoqjdv+fvFiuEzt2/cPmepZ74zj++Ne6+y5z+vxLk7nBDmfu/YzyhakL+4b95UaNnjjTwvx+GFtigHNQ/+QOLgYgO7b/HExTEy5j2v0ENnx9Mc/c/2Zhm4TzmzL/GNbFGh0mxP2InDcHEy/a/KPrKUZVr4b81BjE/bGW8PxX1zj14avK/6N19s28L2D/SOz2hbjjjv6DS80Icq9K/p/2pOS5B479X9hhz7qL9P4aDsNZupIu/RsyHS2Ls8L83Lh+1SVLqPxx64lmTiPO/tWnv0gq8yj/DMFAPz1r/v/9asANAQPW/QDr0vL8yyT++nUiqhKHnPwwupFVl78U/XzGyNiCbvb/hr1BvSEXTvwa4sKwGqPe/J6aouPYI57/ZriIKG3vdv2LC1/746fA/iEEAkdf91T9OFQ2YaTX8vzhYbbDKvdQ/QA8qJjCl2L9NOahTWKnlv/nsCSfakuM/1Pz0Wvl+8D8enOD2C83tP1MVD7Xe2uq/zylztCLK07+KTA+JazPVPwBoGGqqN+8/VWYobMqq3r8Tbn1grMPHvzBuPE2Ms/G/9PWajqkj87+w1UonNgDqP/3Ng74os/U/+iMrXUFvsr9qgA6DeA7wP0KkKG0LJdc/rwoBL9Kk5L+P6aQIGyHXPyBgEDvMm/g/UhmlZMpXor8x1znJxwj5P19fz+s89QTAv1gZewZN6j8grkt3t0i2P7/t4LnvItO/OIpGXqJ9tz/iHOwPFc3/v8FsDls1Hsy/04nor+7a1j8349E5dKX3PzA8v2yrleC/S3Lu+S3f6b+hdpfJZA7gv5AGx2H5Su0/gMUgGEIK1T/02ryry/PgvwNc6tKvbOA/OiugAxPauD9TvHjHI//uP3hIyAw4d+a/l5Lxpmr41L8apYzLTBjZvxD0dqaOave/IzBrdqLz0j8UgR0sIbXQPw06yBDZ8XQ/hE70gPMGzr8=\",\"dtype\":\"float64\",\"shape\":[100]},\"x2\":[10,11,12,13,14,15,16,17,18,19,20,21,22,23,24,25,26,27,28,29,30,31,32,33,34,35,36,37,38,39,40,41,42,43,44,45,46,47,48,49,50,51,52,53,54,55,56,57,58,59,60,61,62,63,64,65,66,67,68,69,70,71,72,73,74,75,76,77,78,79,80,81,82,83,84,85,86,87,88,89,90,91,92,93,94,95,96,97,98,99,100,101,102,103,104,105,106,107,108,109],\"x3\":{\"__ndarray__\":\"BCaNylul9r90hh9c2uvavws0Ft4I79W/fDE0YUGs6b/Ac3WcAqXEvzMc/B/429k/GwJ+RNEt/j+RJ1zWkFjGP517TqK0e9A/YFWJNeMOs7/tciNySbP+vzhGxw90Jpu/rRjbe37Wrj+4CNpHuLQDQOSGYbpIn8i/cjBhOY1M0z8IMle3vcWhv88R8r3nsvK/XG9XkwBJ8j9WfwXd1Q/oP9CD1DoiUOk//I03uLMZ7b80xIdy2HH2PxrkSGH7bfa/S4cph4jH4j9pi2GZDYYBQGn2PTx5su+/syyOahwf4r/knA16wIK5P29cmPl4HOC/2oM4dYTP+L/WI4LWV42xP6z3zS0y//C/LYVNoFZP3j+P4yVf7Gvtv8btxwSIzPg/3zBiNWkQ6b/G09nnp5zUv6+9akJVCOo/EVsOyJ6x879VNCM6aB3NP9OKTYUO6vQ/uPAUV0C4+b9xtRAQFaLHP87DhXHrodA/FIwxZrEE6T/Ywx/UjMrzvwa+Dx2XIPW/c+xXzL6z4D81ybwAzAHTP9yCByoTCNA/bQZjHDUs1j8B1nQ0w8Llv50+1zh9us0/Kj4LDLPB0j9/yEiB99vmv987sV822v0/4GTFUEdT3j9piIFBlA/zvwzmpLZ8AuU/U2I0nZcw779TSQgNzC/pPyEIkoSbifI/3Du3kAdD6r/tPhst+tPuP3e1ZrEAa9o/56rQG1FO6j/5fjyZQ1n+P92Zh7bgaM+/8kr3TZse6L+U+RH35nbsvwxYtSseG+q/vzZmCPC8s79JabMXb9XVP3p/jlNNtdE/chRNAUl46j/EwjZjvKCKPwoy0PKsQfc/auDaNiPw0L9MuFAN6MIFQKFsmod3BeQ/fngKr9Vt6799RAssYCLxv2JDLPvT4N4/Gn5stW2azL8Pgm6QF9nmPy3tMXaGSd4/qoMQZuqksr9D/LEj7xjrv/pkh3HQPPi/HGITc7OT3L8ogL5xnmfrPyehqH5sZ8s/3tQeyYvu87+mMWnmyirGP1UCIToKqdg/we3ZY49I7L9MGk6nQ63DP+ihInyIza0/47UXOZtJ8r8=\",\"dtype\":\"float64\",\"shape\":[100]}},\"selected\":{\"id\":\"1048\",\"type\":\"Selection\"},\"selection_policy\":{\"id\":\"1049\",\"type\":\"UnionRenderers\"}},\"id\":\"1002\",\"type\":\"ColumnDataSource\"},{\"attributes\":{},\"id\":\"1124\",\"type\":\"PanTool\"},{\"attributes\":{\"line_color\":\"green\",\"x\":{\"field\":\"x0\"},\"y\":{\"field\":\"x2\"}},\"id\":\"1157\",\"type\":\"Line\"},{\"attributes\":{},\"id\":\"1125\",\"type\":\"WheelZoomTool\"},{\"attributes\":{\"line_alpha\":0.1,\"line_color\":\"#1f77b4\",\"x\":{\"field\":\"x0\"},\"y\":{\"field\":\"x2\"}},\"id\":\"1158\",\"type\":\"Line\"},{\"attributes\":{\"overlay\":{\"id\":\"1132\",\"type\":\"BoxAnnotation\"}},\"id\":\"1126\",\"type\":\"BoxZoomTool\"},{\"attributes\":{\"data_source\":{\"id\":\"1002\",\"type\":\"ColumnDataSource\"},\"glyph\":{\"id\":\"1157\",\"type\":\"Line\"},\"hover_glyph\":null,\"muted_glyph\":null,\"nonselection_glyph\":{\"id\":\"1158\",\"type\":\"Line\"},\"selection_glyph\":null,\"view\":{\"id\":\"1160\",\"type\":\"CDSView\"},\"y_range_name\":\"x2_range\"},\"id\":\"1159\",\"type\":\"GlyphRenderer\"},{\"attributes\":{},\"id\":\"1127\",\"type\":\"SaveTool\"},{\"attributes\":{\"source\":{\"id\":\"1002\",\"type\":\"ColumnDataSource\"}},\"id\":\"1160\",\"type\":\"CDSView\"},{\"attributes\":{},\"id\":\"1128\",\"type\":\"ResetTool\"},{\"attributes\":{\"callback\":null},\"id\":\"1106\",\"type\":\"DataRange1d\"},{\"attributes\":{},\"id\":\"1168\",\"type\":\"BasicTicker\"},{\"attributes\":{},\"id\":\"1129\",\"type\":\"HelpTool\"},{\"attributes\":{\"active_drag\":\"auto\",\"active_inspect\":\"auto\",\"active_multi\":null,\"active_scroll\":\"auto\",\"active_tap\":\"auto\",\"tools\":[{\"id\":\"1124\",\"type\":\"PanTool\"},{\"id\":\"1125\",\"type\":\"WheelZoomTool\"},{\"id\":\"1126\",\"type\":\"BoxZoomTool\"},{\"id\":\"1127\",\"type\":\"SaveTool\"},{\"id\":\"1128\",\"type\":\"ResetTool\"},{\"id\":\"1129\",\"type\":\"HelpTool\"}]},\"id\":\"1130\",\"type\":\"Toolbar\"},{\"attributes\":{},\"id\":\"1110\",\"type\":\"LinearScale\"},{\"attributes\":{\"data_source\":{\"id\":\"1002\",\"type\":\"ColumnDataSource\"},\"glyph\":{\"id\":\"1140\",\"type\":\"Line\"},\"hover_glyph\":null,\"muted_glyph\":null,\"nonselection_glyph\":{\"id\":\"1141\",\"type\":\"Line\"},\"selection_glyph\":null,\"view\":{\"id\":\"1143\",\"type\":\"CDSView\"}},\"id\":\"1142\",\"type\":\"GlyphRenderer\"},{\"attributes\":{\"source\":{\"id\":\"1002\",\"type\":\"ColumnDataSource\"}},\"id\":\"1143\",\"type\":\"CDSView\"},{\"attributes\":{},\"id\":\"1112\",\"type\":\"LinearScale\"},{\"attributes\":{\"bottom_units\":\"screen\",\"fill_alpha\":{\"value\":0.5},\"fill_color\":{\"value\":\"lightgrey\"},\"left_units\":\"screen\",\"level\":\"overlay\",\"line_alpha\":{\"value\":1.0},\"line_color\":{\"value\":\"black\"},\"line_dash\":[4,4],\"line_width\":{\"value\":2},\"plot\":null,\"render_mode\":\"css\",\"right_units\":\"screen\",\"top_units\":\"screen\"},\"id\":\"1132\",\"type\":\"BoxAnnotation\"},{\"attributes\":{\"formatter\":{\"id\":\"1146\",\"type\":\"BasicTickFormatter\"},\"plot\":{\"id\":\"1105\",\"subtype\":\"Figure\",\"type\":\"Plot\"},\"ticker\":{\"id\":\"1115\",\"type\":\"BasicTicker\"}},\"id\":\"1114\",\"type\":\"LinearAxis\"},{\"attributes\":{},\"id\":\"1048\",\"type\":\"Selection\"},{\"attributes\":{\"plot\":null,\"text\":\"\"},\"id\":\"1145\",\"type\":\"Title\"},{\"attributes\":{\"callback\":null,\"end\":1.8522781845089378,\"start\":-2.6197451040897444},\"id\":\"1153\",\"type\":\"Range1d\"},{\"attributes\":{},\"id\":\"1115\",\"type\":\"BasicTicker\"},{\"attributes\":{},\"id\":\"1146\",\"type\":\"BasicTickFormatter\"},{\"attributes\":{\"formatter\":{\"id\":\"1148\",\"type\":\"BasicTickFormatter\"},\"plot\":{\"id\":\"1105\",\"subtype\":\"Figure\",\"type\":\"Plot\"},\"ticker\":{\"id\":\"1120\",\"type\":\"BasicTicker\"}},\"id\":\"1119\",\"type\":\"LinearAxis\"},{\"attributes\":{},\"id\":\"1148\",\"type\":\"BasicTickFormatter\"},{\"attributes\":{},\"id\":\"1049\",\"type\":\"UnionRenderers\"},{\"attributes\":{},\"id\":\"1120\",\"type\":\"BasicTicker\"},{\"attributes\":{\"items\":[{\"id\":\"1152\",\"type\":\"LegendItem\"},{\"id\":\"1172\",\"type\":\"LegendItem\"}],\"plot\":{\"id\":\"1105\",\"subtype\":\"Figure\",\"type\":\"Plot\"}},\"id\":\"1151\",\"type\":\"Legend\"},{\"attributes\":{\"label\":{\"value\":\"x1\"},\"renderers\":[{\"id\":\"1142\",\"type\":\"GlyphRenderer\"}]},\"id\":\"1152\",\"type\":\"LegendItem\"},{\"attributes\":{\"dimension\":1,\"plot\":{\"id\":\"1105\",\"subtype\":\"Figure\",\"type\":\"Plot\"},\"ticker\":{\"id\":\"1120\",\"type\":\"BasicTicker\"}},\"id\":\"1123\",\"type\":\"Grid\"},{\"attributes\":{},\"id\":\"1167\",\"type\":\"BasicTickFormatter\"},{\"attributes\":{\"formatter\":{\"id\":\"1167\",\"type\":\"BasicTickFormatter\"},\"plot\":{\"id\":\"1105\",\"subtype\":\"Figure\",\"type\":\"Plot\"},\"ticker\":{\"id\":\"1168\",\"type\":\"BasicTicker\"},\"y_range_name\":\"x2_range\"},\"id\":\"1155\",\"type\":\"LinearAxis\"},{\"attributes\":{\"plot\":{\"id\":\"1105\",\"subtype\":\"Figure\",\"type\":\"Plot\"},\"ticker\":{\"id\":\"1115\",\"type\":\"BasicTicker\"}},\"id\":\"1118\",\"type\":\"Grid\"},{\"attributes\":{\"callback\":null,\"end\":109,\"start\":10},\"id\":\"1154\",\"type\":\"Range1d\"},{\"attributes\":{\"label\":{\"value\":\"x2\"},\"renderers\":[{\"id\":\"1159\",\"type\":\"GlyphRenderer\"}]},\"id\":\"1172\",\"type\":\"LegendItem\"},{\"attributes\":{\"line_alpha\":0.1,\"line_color\":\"#1f77b4\",\"x\":{\"field\":\"x0\"},\"y\":{\"field\":\"x1\"}},\"id\":\"1141\",\"type\":\"Line\"}],\"root_ids\":[\"1105\"]},\"title\":\"Bokeh Application\",\"version\":\"1.0.4\"}};\n",
       "  var render_items = [{\"docid\":\"847a2d9e-a133-4786-95e3-5a4e4941a906\",\"roots\":{\"1105\":\"d4002a27-8ddb-4660-9076-0771676ad509\"}}];\n",
       "  root.Bokeh.embed.embed_items_notebook(docs_json, render_items);\n",
       "\n",
       "  }\n",
       "  if (root.Bokeh !== undefined) {\n",
       "    embed_document(root);\n",
       "  } else {\n",
       "    var attempts = 0;\n",
       "    var timer = setInterval(function(root) {\n",
       "      if (root.Bokeh !== undefined) {\n",
       "        embed_document(root);\n",
       "        clearInterval(timer);\n",
       "      }\n",
       "      attempts++;\n",
       "      if (attempts > 100) {\n",
       "        console.log(\"Bokeh: ERROR: Unable to run BokehJS code because BokehJS library is missing\");\n",
       "        clearInterval(timer);\n",
       "      }\n",
       "    }, 10, root)\n",
       "  }\n",
       "})(window);"
      ],
      "application/vnd.bokehjs_exec.v0+json": ""
     },
     "metadata": {
      "application/vnd.bokehjs_exec.v0+json": {
       "id": "1105"
      }
     },
     "output_type": "display_data"
    }
   ],
   "source": [
    "p = figure()\n",
    "column1 = \"x1\"\n",
    "column2 = \"x2\"\n",
    "\n",
    "# FIRST AXIS\n",
    "p.line(\"x0\", column1, legend=value(column1), color=\"blue\", source=data_source)\n",
    "p.y_range = Range1d(data_source.data[column1].min(), data_source.data[column1].max())\n",
    "\n",
    "# SECOND AXIS\n",
    "column2_range = column2 + \"_range\"\n",
    "p.extra_y_ranges = {\n",
    "    column2_range: Range1d(\n",
    "        data_source.data[column2].min(), data_source.data[column2].max()\n",
    "    )\n",
    "}\n",
    "p.add_layout(LinearAxis(y_range_name=column2_range), \"right\")\n",
    "\n",
    "p.line(\n",
    "    \"x0\",\n",
    "    column2,\n",
    "    legend=value(column2),\n",
    "    y_range_name=column2_range,\n",
    "    color=\"green\",\n",
    "    source=data_source,\n",
    ")\n",
    "\n",
    "output_file(\"bokeh-simple-line-plot.html\")\n",
    "show(p)"
   ]
  },
  {
   "cell_type": "markdown",
   "metadata": {},
   "source": [
    "## Combine line and scatter plot\n",
    "\n",
    "This is where Bokeh really shines. You can simply define multiple elements and Bokeh renders them on the plot."
   ]
  },
  {
   "cell_type": "code",
   "execution_count": 6,
   "metadata": {},
   "outputs": [
    {
     "data": {
      "text/html": [
       "\n",
       "\n",
       "\n",
       "\n",
       "\n",
       "\n",
       "  <div class=\"bk-root\" id=\"3f40f236-ade9-4614-8ca6-7f48ba935460\" data-root-id=\"1259\"></div>\n"
      ]
     },
     "metadata": {},
     "output_type": "display_data"
    },
    {
     "data": {
      "application/javascript": [
       "(function(root) {\n",
       "  function embed_document(root) {\n",
       "    \n",
       "  var docs_json = {\"b01b3880-56d8-4df4-83a8-abde19122030\":{\"roots\":{\"references\":[{\"attributes\":{\"below\":[{\"id\":\"1268\",\"type\":\"LinearAxis\"}],\"left\":[{\"id\":\"1273\",\"type\":\"LinearAxis\"}],\"renderers\":[{\"id\":\"1268\",\"type\":\"LinearAxis\"},{\"id\":\"1272\",\"type\":\"Grid\"},{\"id\":\"1273\",\"type\":\"LinearAxis\"},{\"id\":\"1277\",\"type\":\"Grid\"},{\"id\":\"1286\",\"type\":\"BoxAnnotation\"},{\"id\":\"1296\",\"type\":\"GlyphRenderer\"},{\"id\":\"1301\",\"type\":\"GlyphRenderer\"}],\"title\":{\"id\":\"1324\",\"type\":\"Title\"},\"toolbar\":{\"id\":\"1284\",\"type\":\"Toolbar\"},\"x_range\":{\"id\":\"1260\",\"type\":\"DataRange1d\"},\"x_scale\":{\"id\":\"1264\",\"type\":\"LinearScale\"},\"y_range\":{\"id\":\"1262\",\"type\":\"DataRange1d\"},\"y_scale\":{\"id\":\"1266\",\"type\":\"LinearScale\"}},\"id\":\"1259\",\"subtype\":\"Figure\",\"type\":\"Plot\"},{\"attributes\":{\"callback\":null,\"data\":{\"x0\":[0,1,2,3,4,5,6,7,8,9,10,11,12,13,14,15,16,17,18,19,20,21,22,23,24,25,26,27,28,29,30,31,32,33,34,35,36,37,38,39,40,41,42,43,44,45,46,47,48,49,50,51,52,53,54,55,56,57,58,59,60,61,62,63,64,65,66,67,68,69,70,71,72,73,74,75,76,77,78,79,80,81,82,83,84,85,86,87,88,89,90,91,92,93,94,95,96,97,98,99],\"x1\":{\"__ndarray__\":\"fDCpKCrK3z8qBd4FpbLBv2heJFDdueQ/K6oBjlRe+D9AplffvPjNvzvbcCYz+M2/CHRAqHRE+T/z1/BG047oP4ueeUveC96/fS1q4aZc4T9wG8Guoqjdv+fvFiuEzt2/cPmepZ74zj++Ne6+y5z+vxLk7nBDmfu/YzyhakL+4b95UaNnjjTwvx+GFtigHNQ/+QOLgYgO7b/HExTEy5j2v0ENnx9Mc/c/2Zhm4TzmzL/GNbFGh0mxP2InDcHEy/a/KPrKUZVr4b81BjE/bGW8PxX1zj14avK/6N19s28L2D/SOz2hbjjjv6DS80Icq9K/p/2pOS5B479X9hhz7qL9P4aDsNZupIu/RsyHS2Ls8L83Lh+1SVLqPxx64lmTiPO/tWnv0gq8yj/DMFAPz1r/v/9asANAQPW/QDr0vL8yyT++nUiqhKHnPwwupFVl78U/XzGyNiCbvb/hr1BvSEXTvwa4sKwGqPe/J6aouPYI57/ZriIKG3vdv2LC1/746fA/iEEAkdf91T9OFQ2YaTX8vzhYbbDKvdQ/QA8qJjCl2L9NOahTWKnlv/nsCSfakuM/1Pz0Wvl+8D8enOD2C83tP1MVD7Xe2uq/zylztCLK07+KTA+JazPVPwBoGGqqN+8/VWYobMqq3r8Tbn1grMPHvzBuPE2Ms/G/9PWajqkj87+w1UonNgDqP/3Ng74os/U/+iMrXUFvsr9qgA6DeA7wP0KkKG0LJdc/rwoBL9Kk5L+P6aQIGyHXPyBgEDvMm/g/UhmlZMpXor8x1znJxwj5P19fz+s89QTAv1gZewZN6j8grkt3t0i2P7/t4LnvItO/OIpGXqJ9tz/iHOwPFc3/v8FsDls1Hsy/04nor+7a1j8349E5dKX3PzA8v2yrleC/S3Lu+S3f6b+hdpfJZA7gv5AGx2H5Su0/gMUgGEIK1T/02ryry/PgvwNc6tKvbOA/OiugAxPauD9TvHjHI//uP3hIyAw4d+a/l5Lxpmr41L8apYzLTBjZvxD0dqaOave/IzBrdqLz0j8UgR0sIbXQPw06yBDZ8XQ/hE70gPMGzr8=\",\"dtype\":\"float64\",\"shape\":[100]},\"x2\":[10,11,12,13,14,15,16,17,18,19,20,21,22,23,24,25,26,27,28,29,30,31,32,33,34,35,36,37,38,39,40,41,42,43,44,45,46,47,48,49,50,51,52,53,54,55,56,57,58,59,60,61,62,63,64,65,66,67,68,69,70,71,72,73,74,75,76,77,78,79,80,81,82,83,84,85,86,87,88,89,90,91,92,93,94,95,96,97,98,99,100,101,102,103,104,105,106,107,108,109],\"x3\":{\"__ndarray__\":\"BCaNylul9r90hh9c2uvavws0Ft4I79W/fDE0YUGs6b/Ac3WcAqXEvzMc/B/429k/GwJ+RNEt/j+RJ1zWkFjGP517TqK0e9A/YFWJNeMOs7/tciNySbP+vzhGxw90Jpu/rRjbe37Wrj+4CNpHuLQDQOSGYbpIn8i/cjBhOY1M0z8IMle3vcWhv88R8r3nsvK/XG9XkwBJ8j9WfwXd1Q/oP9CD1DoiUOk//I03uLMZ7b80xIdy2HH2PxrkSGH7bfa/S4cph4jH4j9pi2GZDYYBQGn2PTx5su+/syyOahwf4r/knA16wIK5P29cmPl4HOC/2oM4dYTP+L/WI4LWV42xP6z3zS0y//C/LYVNoFZP3j+P4yVf7Gvtv8btxwSIzPg/3zBiNWkQ6b/G09nnp5zUv6+9akJVCOo/EVsOyJ6x879VNCM6aB3NP9OKTYUO6vQ/uPAUV0C4+b9xtRAQFaLHP87DhXHrodA/FIwxZrEE6T/Ywx/UjMrzvwa+Dx2XIPW/c+xXzL6z4D81ybwAzAHTP9yCByoTCNA/bQZjHDUs1j8B1nQ0w8Llv50+1zh9us0/Kj4LDLPB0j9/yEiB99vmv987sV822v0/4GTFUEdT3j9piIFBlA/zvwzmpLZ8AuU/U2I0nZcw779TSQgNzC/pPyEIkoSbifI/3Du3kAdD6r/tPhst+tPuP3e1ZrEAa9o/56rQG1FO6j/5fjyZQ1n+P92Zh7bgaM+/8kr3TZse6L+U+RH35nbsvwxYtSseG+q/vzZmCPC8s79JabMXb9XVP3p/jlNNtdE/chRNAUl46j/EwjZjvKCKPwoy0PKsQfc/auDaNiPw0L9MuFAN6MIFQKFsmod3BeQ/fngKr9Vt6799RAssYCLxv2JDLPvT4N4/Gn5stW2azL8Pgm6QF9nmPy3tMXaGSd4/qoMQZuqksr9D/LEj7xjrv/pkh3HQPPi/HGITc7OT3L8ogL5xnmfrPyehqH5sZ8s/3tQeyYvu87+mMWnmyirGP1UCIToKqdg/we3ZY49I7L9MGk6nQ63DP+ihInyIza0/47UXOZtJ8r8=\",\"dtype\":\"float64\",\"shape\":[100]}},\"selected\":{\"id\":\"1048\",\"type\":\"Selection\"},\"selection_policy\":{\"id\":\"1049\",\"type\":\"UnionRenderers\"}},\"id\":\"1002\",\"type\":\"ColumnDataSource\"},{\"attributes\":{},\"id\":\"1282\",\"type\":\"ResetTool\"},{\"attributes\":{\"line_alpha\":0.1,\"line_color\":\"#1f77b4\",\"x\":{\"field\":\"x0\"},\"y\":{\"field\":\"x1\"}},\"id\":\"1295\",\"type\":\"Line\"},{\"attributes\":{\"overlay\":{\"id\":\"1286\",\"type\":\"BoxAnnotation\"}},\"id\":\"1280\",\"type\":\"BoxZoomTool\"},{\"attributes\":{},\"id\":\"1266\",\"type\":\"LinearScale\"},{\"attributes\":{},\"id\":\"1283\",\"type\":\"HelpTool\"},{\"attributes\":{\"plot\":{\"id\":\"1259\",\"subtype\":\"Figure\",\"type\":\"Plot\"},\"ticker\":{\"id\":\"1269\",\"type\":\"BasicTicker\"}},\"id\":\"1272\",\"type\":\"Grid\"},{\"attributes\":{},\"id\":\"1327\",\"type\":\"BasicTickFormatter\"},{\"attributes\":{\"source\":{\"id\":\"1002\",\"type\":\"ColumnDataSource\"}},\"id\":\"1302\",\"type\":\"CDSView\"},{\"attributes\":{\"plot\":null,\"text\":\"\"},\"id\":\"1324\",\"type\":\"Title\"},{\"attributes\":{},\"id\":\"1281\",\"type\":\"SaveTool\"},{\"attributes\":{},\"id\":\"1264\",\"type\":\"LinearScale\"},{\"attributes\":{\"formatter\":{\"id\":\"1325\",\"type\":\"BasicTickFormatter\"},\"plot\":{\"id\":\"1259\",\"subtype\":\"Figure\",\"type\":\"Plot\"},\"ticker\":{\"id\":\"1269\",\"type\":\"BasicTicker\"}},\"id\":\"1268\",\"type\":\"LinearAxis\"},{\"attributes\":{\"data_source\":{\"id\":\"1002\",\"type\":\"ColumnDataSource\"},\"glyph\":{\"id\":\"1299\",\"type\":\"Circle\"},\"hover_glyph\":null,\"muted_glyph\":null,\"nonselection_glyph\":{\"id\":\"1300\",\"type\":\"Circle\"},\"selection_glyph\":null,\"view\":{\"id\":\"1302\",\"type\":\"CDSView\"}},\"id\":\"1301\",\"type\":\"GlyphRenderer\"},{\"attributes\":{},\"id\":\"1269\",\"type\":\"BasicTicker\"},{\"attributes\":{\"formatter\":{\"id\":\"1327\",\"type\":\"BasicTickFormatter\"},\"plot\":{\"id\":\"1259\",\"subtype\":\"Figure\",\"type\":\"Plot\"},\"ticker\":{\"id\":\"1274\",\"type\":\"BasicTicker\"}},\"id\":\"1273\",\"type\":\"LinearAxis\"},{\"attributes\":{\"active_drag\":\"auto\",\"active_inspect\":\"auto\",\"active_multi\":null,\"active_scroll\":\"auto\",\"active_tap\":\"auto\",\"tools\":[{\"id\":\"1278\",\"type\":\"PanTool\"},{\"id\":\"1279\",\"type\":\"WheelZoomTool\"},{\"id\":\"1280\",\"type\":\"BoxZoomTool\"},{\"id\":\"1281\",\"type\":\"SaveTool\"},{\"id\":\"1282\",\"type\":\"ResetTool\"},{\"id\":\"1283\",\"type\":\"HelpTool\"}]},\"id\":\"1284\",\"type\":\"Toolbar\"},{\"attributes\":{\"callback\":null},\"id\":\"1262\",\"type\":\"DataRange1d\"},{\"attributes\":{},\"id\":\"1048\",\"type\":\"Selection\"},{\"attributes\":{\"dimension\":1,\"plot\":{\"id\":\"1259\",\"subtype\":\"Figure\",\"type\":\"Plot\"},\"ticker\":{\"id\":\"1274\",\"type\":\"BasicTicker\"}},\"id\":\"1277\",\"type\":\"Grid\"},{\"attributes\":{\"data_source\":{\"id\":\"1002\",\"type\":\"ColumnDataSource\"},\"glyph\":{\"id\":\"1294\",\"type\":\"Line\"},\"hover_glyph\":null,\"muted_glyph\":null,\"nonselection_glyph\":{\"id\":\"1295\",\"type\":\"Line\"},\"selection_glyph\":null,\"view\":{\"id\":\"1297\",\"type\":\"CDSView\"}},\"id\":\"1296\",\"type\":\"GlyphRenderer\"},{\"attributes\":{},\"id\":\"1279\",\"type\":\"WheelZoomTool\"},{\"attributes\":{\"bottom_units\":\"screen\",\"fill_alpha\":{\"value\":0.5},\"fill_color\":{\"value\":\"lightgrey\"},\"left_units\":\"screen\",\"level\":\"overlay\",\"line_alpha\":{\"value\":1.0},\"line_color\":{\"value\":\"black\"},\"line_dash\":[4,4],\"line_width\":{\"value\":2},\"plot\":null,\"render_mode\":\"css\",\"right_units\":\"screen\",\"top_units\":\"screen\"},\"id\":\"1286\",\"type\":\"BoxAnnotation\"},{\"attributes\":{},\"id\":\"1274\",\"type\":\"BasicTicker\"},{\"attributes\":{},\"id\":\"1325\",\"type\":\"BasicTickFormatter\"},{\"attributes\":{},\"id\":\"1049\",\"type\":\"UnionRenderers\"},{\"attributes\":{},\"id\":\"1278\",\"type\":\"PanTool\"},{\"attributes\":{\"callback\":null},\"id\":\"1260\",\"type\":\"DataRange1d\"},{\"attributes\":{\"source\":{\"id\":\"1002\",\"type\":\"ColumnDataSource\"}},\"id\":\"1297\",\"type\":\"CDSView\"},{\"attributes\":{\"fill_alpha\":{\"value\":0.1},\"fill_color\":{\"value\":\"#1f77b4\"},\"line_alpha\":{\"value\":0.1},\"line_color\":{\"value\":\"#1f77b4\"},\"x\":{\"field\":\"x0\"},\"y\":{\"field\":\"x3\"}},\"id\":\"1300\",\"type\":\"Circle\"},{\"attributes\":{\"line_color\":\"blue\",\"x\":{\"field\":\"x0\"},\"y\":{\"field\":\"x1\"}},\"id\":\"1294\",\"type\":\"Line\"},{\"attributes\":{\"fill_color\":{\"value\":\"green\"},\"line_color\":{\"value\":\"green\"},\"x\":{\"field\":\"x0\"},\"y\":{\"field\":\"x3\"}},\"id\":\"1299\",\"type\":\"Circle\"}],\"root_ids\":[\"1259\"]},\"title\":\"Bokeh Application\",\"version\":\"1.0.4\"}};\n",
       "  var render_items = [{\"docid\":\"b01b3880-56d8-4df4-83a8-abde19122030\",\"roots\":{\"1259\":\"3f40f236-ade9-4614-8ca6-7f48ba935460\"}}];\n",
       "  root.Bokeh.embed.embed_items_notebook(docs_json, render_items);\n",
       "\n",
       "  }\n",
       "  if (root.Bokeh !== undefined) {\n",
       "    embed_document(root);\n",
       "  } else {\n",
       "    var attempts = 0;\n",
       "    var timer = setInterval(function(root) {\n",
       "      if (root.Bokeh !== undefined) {\n",
       "        embed_document(root);\n",
       "        clearInterval(timer);\n",
       "      }\n",
       "      attempts++;\n",
       "      if (attempts > 100) {\n",
       "        console.log(\"Bokeh: ERROR: Unable to run BokehJS code because BokehJS library is missing\");\n",
       "        clearInterval(timer);\n",
       "      }\n",
       "    }, 10, root)\n",
       "  }\n",
       "})(window);"
      ],
      "application/vnd.bokehjs_exec.v0+json": ""
     },
     "metadata": {
      "application/vnd.bokehjs_exec.v0+json": {
       "id": "1259"
      }
     },
     "output_type": "display_data"
    }
   ],
   "source": [
    "p = figure()\n",
    "p.line(x=\"x0\", y=\"x1\",color='blue', source=data_source )\n",
    "p.circle(x=\"x0\", y=\"x3\",color='green', source=data_source)\n",
    "show(p)"
   ]
  },
  {
   "cell_type": "markdown",
   "metadata": {},
   "source": [
    "## Final thoughts"
   ]
  },
  {
   "cell_type": "markdown",
   "metadata": {},
   "source": [
    "Bokeh is very customizable. You can tweak all the things you would expect from a plotting library, like line width, colors, multiple plots on a grid, etc.\n",
    "It offers special plots like candlesticks for financial data, Burtin visualization with antibiotics and you can even make a periodic table.\n",
    "Unique to Bokeh (at least to my knowledge) is an option to export the plot to javascript code which enables you to directly embed the plot to a webpage with all of its interactive capabilities.\n",
    "\n",
    "What do you think about Bokeh? Let me know in the comments below."
   ]
  }
 ],
 "metadata": {
  "kernelspec": {
   "display_name": "Python 3",
   "language": "python",
   "name": "python3"
  },
  "language_info": {
   "codemirror_mode": {
    "name": "ipython",
    "version": 3
   },
   "file_extension": ".py",
   "mimetype": "text/x-python",
   "name": "python",
   "nbconvert_exporter": "python",
   "pygments_lexer": "ipython3",
   "version": "3.7.0"
  }
 },
 "nbformat": 4,
 "nbformat_minor": 2
}
