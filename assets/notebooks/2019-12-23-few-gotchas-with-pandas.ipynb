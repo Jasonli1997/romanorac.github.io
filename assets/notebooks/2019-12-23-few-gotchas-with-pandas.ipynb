{
 "cells": [
  {
   "cell_type": "markdown",
   "metadata": {},
   "source": [
    "# Few Gotchas with pandas \n",
    "\n",
    "Doing Data Analysis with pandas is pretty straightforward until it is NOT! In this blog post, I present a few gotchas with pandas that you don't need to repeat.\n",
    "\n",
    "To run the examples download this Jupyter notebook.\n",
    "\n",
    "To Step Up Your Pandas Game, read:\n",
    "- [5 lesser-known pandas tricks](https://towardsdatascience.com/5-lesser-known-pandas-tricks-e8ab1dd21431),\n",
    "- [Exploratory Data Analysis with pandas](https://towardsdatascience.com/exploratory-data-analysis-with-pandas-508a5e8a5964),\n",
    "- [How NOT to write pandas code](https://towardsdatascience.com/how-not-to-write-pandas-code-ef88599c6e8f)."
   ]
  },
  {
   "cell_type": "code",
   "execution_count": 22,
   "metadata": {},
   "outputs": [],
   "source": [
    "%matplotlib inline"
   ]
  },
  {
   "cell_type": "code",
   "execution_count": 23,
   "metadata": {},
   "outputs": [],
   "source": [
    "import glob\n",
    "from platform import python_version\n",
    "\n",
    "import pandas as pd\n",
    "import matplotlib as mpl"
   ]
  },
  {
   "cell_type": "code",
   "execution_count": 24,
   "metadata": {},
   "outputs": [],
   "source": [
    "mpl.pyplot.rcParams['figure.facecolor'] = 'w'"
   ]
  },
  {
   "cell_type": "code",
   "execution_count": 25,
   "metadata": {},
   "outputs": [
    {
     "name": "stdout",
     "output_type": "stream",
     "text": [
      "python version==3.7.3\n",
      "pandas==0.25.3\n",
      "matplotlib==3.1.2\n"
     ]
    }
   ],
   "source": [
    "print(\"python version==%s\" % python_version())\n",
    "print(\"pandas==%s\" % pd.__version__)\n",
    "print(\"matplotlib==%s\" % mpl.__version__)"
   ]
  },
  {
   "cell_type": "code",
   "execution_count": 26,
   "metadata": {},
   "outputs": [
    {
     "data": {
      "text/plain": [
       "['data/20191210.csv.gz', 'data/20191209.csv.gz', 'data/20191211.csv.gz']"
      ]
     },
     "execution_count": 26,
     "metadata": {},
     "output_type": "execute_result"
    }
   ],
   "source": [
    "filepaths = glob.glob('data/*.gz')\n",
    "filepaths"
   ]
  },
  {
   "cell_type": "code",
   "execution_count": 27,
   "metadata": {},
   "outputs": [
    {
     "data": {
      "text/plain": [
       "['data/20191209.csv.gz', 'data/20191210.csv.gz', 'data/20191211.csv.gz']"
      ]
     },
     "execution_count": 27,
     "metadata": {},
     "output_type": "execute_result"
    }
   ],
   "source": [
    "filepaths = sorted(filepaths)\n",
    "filepaths"
   ]
  },
  {
   "cell_type": "code",
   "execution_count": 28,
   "metadata": {},
   "outputs": [
    {
     "data": {
      "text/plain": [
       "['100', '1000', '200', '20000', '9']"
      ]
     },
     "execution_count": 28,
     "metadata": {},
     "output_type": "execute_result"
    }
   ],
   "source": [
    "sorted(['100', '200', '1000', '20000', '9'])"
   ]
  },
  {
   "cell_type": "code",
   "execution_count": 29,
   "metadata": {},
   "outputs": [
    {
     "data": {
      "text/plain": [
       "[9, 100, 200, 1000, 20000]"
      ]
     },
     "execution_count": 29,
     "metadata": {},
     "output_type": "execute_result"
    }
   ],
   "source": [
    "sorted([100, 200, 1000, 20000, 9])"
   ]
  },
  {
   "cell_type": "code",
   "execution_count": 30,
   "metadata": {},
   "outputs": [
    {
     "data": {
      "text/plain": [
       "(1578327, 10)"
      ]
     },
     "execution_count": 30,
     "metadata": {},
     "output_type": "execute_result"
    }
   ],
   "source": [
    "df_list = []\n",
    "for filepath in filepaths:\n",
    "    df_ = pd.read_csv(filepath)\n",
    "    df_list.append(df_)\n",
    "\n",
    "df = pd.concat(df_list)\n",
    "df.shape"
   ]
  },
  {
   "cell_type": "code",
   "execution_count": 31,
   "metadata": {},
   "outputs": [
    {
     "data": {
      "text/html": [
       "<div>\n",
       "<style scoped>\n",
       "    .dataframe tbody tr th:only-of-type {\n",
       "        vertical-align: middle;\n",
       "    }\n",
       "\n",
       "    .dataframe tbody tr th {\n",
       "        vertical-align: top;\n",
       "    }\n",
       "\n",
       "    .dataframe thead th {\n",
       "        text-align: right;\n",
       "    }\n",
       "</style>\n",
       "<table border=\"1\" class=\"dataframe\">\n",
       "  <thead>\n",
       "    <tr style=\"text-align: right;\">\n",
       "      <th></th>\n",
       "      <th>timestamp</th>\n",
       "      <th>symbol</th>\n",
       "      <th>side</th>\n",
       "      <th>size</th>\n",
       "      <th>price</th>\n",
       "      <th>tickDirection</th>\n",
       "      <th>trdMatchID</th>\n",
       "      <th>grossValue</th>\n",
       "      <th>homeNotional</th>\n",
       "      <th>foreignNotional</th>\n",
       "    </tr>\n",
       "  </thead>\n",
       "  <tbody>\n",
       "    <tr>\n",
       "      <th>0</th>\n",
       "      <td>2019-12-09D00:00:18.265072000</td>\n",
       "      <td>ADAZ19</td>\n",
       "      <td>Buy</td>\n",
       "      <td>5319</td>\n",
       "      <td>0.000005</td>\n",
       "      <td>ZeroPlusTick</td>\n",
       "      <td>7317fb7d-1bec-af18-e030-d8d6d9c684ac</td>\n",
       "      <td>2749923</td>\n",
       "      <td>5319.0</td>\n",
       "      <td>0.027499</td>\n",
       "    </tr>\n",
       "    <tr>\n",
       "      <th>1</th>\n",
       "      <td>2019-12-09D00:00:42.503391000</td>\n",
       "      <td>ADAZ19</td>\n",
       "      <td>Sell</td>\n",
       "      <td>10000</td>\n",
       "      <td>0.000005</td>\n",
       "      <td>MinusTick</td>\n",
       "      <td>43a3c08b-2c86-20a4-9722-f59f0a3e12c8</td>\n",
       "      <td>5160000</td>\n",
       "      <td>10000.0</td>\n",
       "      <td>0.051600</td>\n",
       "    </tr>\n",
       "    <tr>\n",
       "      <th>2</th>\n",
       "      <td>2019-12-09D00:01:50.513620000</td>\n",
       "      <td>ADAZ19</td>\n",
       "      <td>Buy</td>\n",
       "      <td>20000</td>\n",
       "      <td>0.000005</td>\n",
       "      <td>PlusTick</td>\n",
       "      <td>643f6fea-a72e-f3ac-994f-e923a0c2212c</td>\n",
       "      <td>10340000</td>\n",
       "      <td>20000.0</td>\n",
       "      <td>0.103400</td>\n",
       "    </tr>\n",
       "    <tr>\n",
       "      <th>3</th>\n",
       "      <td>2019-12-09D00:02:35.189775000</td>\n",
       "      <td>ADAZ19</td>\n",
       "      <td>Buy</td>\n",
       "      <td>18543</td>\n",
       "      <td>0.000005</td>\n",
       "      <td>ZeroPlusTick</td>\n",
       "      <td>153fe5ef-b974-606e-2321-b3ccff0caee3</td>\n",
       "      <td>9586731</td>\n",
       "      <td>18543.0</td>\n",
       "      <td>0.095867</td>\n",
       "    </tr>\n",
       "    <tr>\n",
       "      <th>4</th>\n",
       "      <td>2019-12-09D00:03:49.934950000</td>\n",
       "      <td>ADAZ19</td>\n",
       "      <td>Buy</td>\n",
       "      <td>1138</td>\n",
       "      <td>0.000005</td>\n",
       "      <td>ZeroPlusTick</td>\n",
       "      <td>dfc5efdd-76fa-9ef7-38bf-ffec4a564530</td>\n",
       "      <td>588346</td>\n",
       "      <td>1138.0</td>\n",
       "      <td>0.005883</td>\n",
       "    </tr>\n",
       "  </tbody>\n",
       "</table>\n",
       "</div>"
      ],
      "text/plain": [
       "                       timestamp  symbol  side   size     price tickDirection  \\\n",
       "0  2019-12-09D00:00:18.265072000  ADAZ19   Buy   5319  0.000005  ZeroPlusTick   \n",
       "1  2019-12-09D00:00:42.503391000  ADAZ19  Sell  10000  0.000005     MinusTick   \n",
       "2  2019-12-09D00:01:50.513620000  ADAZ19   Buy  20000  0.000005      PlusTick   \n",
       "3  2019-12-09D00:02:35.189775000  ADAZ19   Buy  18543  0.000005  ZeroPlusTick   \n",
       "4  2019-12-09D00:03:49.934950000  ADAZ19   Buy   1138  0.000005  ZeroPlusTick   \n",
       "\n",
       "                             trdMatchID  grossValue  homeNotional  \\\n",
       "0  7317fb7d-1bec-af18-e030-d8d6d9c684ac     2749923        5319.0   \n",
       "1  43a3c08b-2c86-20a4-9722-f59f0a3e12c8     5160000       10000.0   \n",
       "2  643f6fea-a72e-f3ac-994f-e923a0c2212c    10340000       20000.0   \n",
       "3  153fe5ef-b974-606e-2321-b3ccff0caee3     9586731       18543.0   \n",
       "4  dfc5efdd-76fa-9ef7-38bf-ffec4a564530      588346        1138.0   \n",
       "\n",
       "   foreignNotional  \n",
       "0         0.027499  \n",
       "1         0.051600  \n",
       "2         0.103400  \n",
       "3         0.095867  \n",
       "4         0.005883  "
      ]
     },
     "execution_count": 31,
     "metadata": {},
     "output_type": "execute_result"
    }
   ],
   "source": [
    "df.head()"
   ]
  },
  {
   "cell_type": "code",
   "execution_count": 32,
   "metadata": {},
   "outputs": [
    {
     "data": {
      "text/plain": [
       "0         2019-12-09D00:00:18.265072000\n",
       "1         2019-12-09D00:00:42.503391000\n",
       "2         2019-12-09D00:01:50.513620000\n",
       "3         2019-12-09D00:02:35.189775000\n",
       "4         2019-12-09D00:03:49.934950000\n",
       "                      ...              \n",
       "389905    2019-12-11D23:35:26.637330000\n",
       "389906    2019-12-11D23:35:26.637330000\n",
       "389907    2019-12-11D23:37:25.166632000\n",
       "389908    2019-12-11D23:40:09.701271000\n",
       "389909    2019-12-11D23:55:46.793512000\n",
       "Name: timestamp, Length: 1578327, dtype: object"
      ]
     },
     "execution_count": 32,
     "metadata": {},
     "output_type": "execute_result"
    }
   ],
   "source": [
    "df.timestamp"
   ]
  },
  {
   "cell_type": "code",
   "execution_count": 33,
   "metadata": {},
   "outputs": [
    {
     "data": {
      "text/plain": [
       "0      100\n",
       "2     1000\n",
       "1      200\n",
       "3    20000\n",
       "4        9\n",
       "dtype: object"
      ]
     },
     "execution_count": 33,
     "metadata": {},
     "output_type": "execute_result"
    }
   ],
   "source": [
    "pd.Series(['100', '200', '1000', '20000', '9']).sort_values()"
   ]
  },
  {
   "cell_type": "code",
   "execution_count": 34,
   "metadata": {},
   "outputs": [
    {
     "data": {
      "text/plain": [
       "0        2019-12-09 00:00:18.265072\n",
       "1        2019-12-09 00:00:42.503391\n",
       "2        2019-12-09 00:01:50.513620\n",
       "3        2019-12-09 00:02:35.189775\n",
       "4        2019-12-09 00:03:49.934950\n",
       "                    ...            \n",
       "389905   2019-12-11 23:35:26.637330\n",
       "389906   2019-12-11 23:35:26.637330\n",
       "389907   2019-12-11 23:37:25.166632\n",
       "389908   2019-12-11 23:40:09.701271\n",
       "389909   2019-12-11 23:55:46.793512\n",
       "Name: timestamp, Length: 1578327, dtype: datetime64[ns]"
      ]
     },
     "execution_count": 34,
     "metadata": {},
     "output_type": "execute_result"
    }
   ],
   "source": [
    "df.timestamp = pd.to_datetime(df.timestamp.str.replace(\"D\", \"T\"))\n",
    "df.timestamp"
   ]
  },
  {
   "cell_type": "code",
   "execution_count": 37,
   "metadata": {},
   "outputs": [
    {
     "data": {
      "text/plain": [
       "(1309671, 10)"
      ]
     },
     "execution_count": 37,
     "metadata": {},
     "output_type": "execute_result"
    }
   ],
   "source": [
    "df = df[df.symbol == 'XBTUSD']\n",
    "df.shape"
   ]
  },
  {
   "cell_type": "code",
   "execution_count": 40,
   "metadata": {},
   "outputs": [],
   "source": [
    "df = df.sort_values(\"timestamp\")"
   ]
  },
  {
   "cell_type": "code",
   "execution_count": 41,
   "metadata": {},
   "outputs": [
    {
     "data": {
      "text/html": [
       "<div>\n",
       "<style scoped>\n",
       "    .dataframe tbody tr th:only-of-type {\n",
       "        vertical-align: middle;\n",
       "    }\n",
       "\n",
       "    .dataframe tbody tr th {\n",
       "        vertical-align: top;\n",
       "    }\n",
       "\n",
       "    .dataframe thead th {\n",
       "        text-align: right;\n",
       "    }\n",
       "</style>\n",
       "<table border=\"1\" class=\"dataframe\">\n",
       "  <thead>\n",
       "    <tr style=\"text-align: right;\">\n",
       "      <th></th>\n",
       "      <th>timestamp</th>\n",
       "      <th>symbol</th>\n",
       "      <th>side</th>\n",
       "      <th>size</th>\n",
       "      <th>price</th>\n",
       "      <th>tickDirection</th>\n",
       "      <th>trdMatchID</th>\n",
       "      <th>grossValue</th>\n",
       "      <th>homeNotional</th>\n",
       "      <th>foreignNotional</th>\n",
       "    </tr>\n",
       "  </thead>\n",
       "  <tbody>\n",
       "    <tr>\n",
       "      <th>0</th>\n",
       "      <td>2019-12-09 00:00:03.137637</td>\n",
       "      <td>XBTUSD</td>\n",
       "      <td>Buy</td>\n",
       "      <td>500</td>\n",
       "      <td>7512.5</td>\n",
       "      <td>ZeroPlusTick</td>\n",
       "      <td>084e9218-9596-3457-fee1-3012bb3ce1a6</td>\n",
       "      <td>6655500</td>\n",
       "      <td>0.066555</td>\n",
       "      <td>500.0</td>\n",
       "    </tr>\n",
       "    <tr>\n",
       "      <th>1</th>\n",
       "      <td>2019-12-09 00:00:03.157349</td>\n",
       "      <td>XBTUSD</td>\n",
       "      <td>Buy</td>\n",
       "      <td>14</td>\n",
       "      <td>7512.5</td>\n",
       "      <td>ZeroPlusTick</td>\n",
       "      <td>d25b3551-5850-0974-b844-80d591dff4d2</td>\n",
       "      <td>186354</td>\n",
       "      <td>0.001864</td>\n",
       "      <td>14.0</td>\n",
       "    </tr>\n",
       "    <tr>\n",
       "      <th>2</th>\n",
       "      <td>2019-12-09 00:00:03.165542</td>\n",
       "      <td>XBTUSD</td>\n",
       "      <td>Sell</td>\n",
       "      <td>5</td>\n",
       "      <td>7512.0</td>\n",
       "      <td>MinusTick</td>\n",
       "      <td>bad21a77-12eb-aed6-809b-8d3090d8efb2</td>\n",
       "      <td>66560</td>\n",
       "      <td>0.000666</td>\n",
       "      <td>5.0</td>\n",
       "    </tr>\n",
       "    <tr>\n",
       "      <th>3</th>\n",
       "      <td>2019-12-09 00:00:03.174043</td>\n",
       "      <td>XBTUSD</td>\n",
       "      <td>Sell</td>\n",
       "      <td>383</td>\n",
       "      <td>7512.0</td>\n",
       "      <td>ZeroMinusTick</td>\n",
       "      <td>57da5cfd-a646-d014-d8b3-3c18e7565abc</td>\n",
       "      <td>5098496</td>\n",
       "      <td>0.050985</td>\n",
       "      <td>383.0</td>\n",
       "    </tr>\n",
       "    <tr>\n",
       "      <th>4</th>\n",
       "      <td>2019-12-09 00:00:03.178405</td>\n",
       "      <td>XBTUSD</td>\n",
       "      <td>Sell</td>\n",
       "      <td>20</td>\n",
       "      <td>7512.0</td>\n",
       "      <td>ZeroMinusTick</td>\n",
       "      <td>d95cdd09-7784-21e4-b008-192762fbf199</td>\n",
       "      <td>266240</td>\n",
       "      <td>0.002662</td>\n",
       "      <td>20.0</td>\n",
       "    </tr>\n",
       "  </tbody>\n",
       "</table>\n",
       "</div>"
      ],
      "text/plain": [
       "                   timestamp  symbol  side  size   price  tickDirection  \\\n",
       "0 2019-12-09 00:00:03.137637  XBTUSD   Buy   500  7512.5   ZeroPlusTick   \n",
       "1 2019-12-09 00:00:03.157349  XBTUSD   Buy    14  7512.5   ZeroPlusTick   \n",
       "2 2019-12-09 00:00:03.165542  XBTUSD  Sell     5  7512.0      MinusTick   \n",
       "3 2019-12-09 00:00:03.174043  XBTUSD  Sell   383  7512.0  ZeroMinusTick   \n",
       "4 2019-12-09 00:00:03.178405  XBTUSD  Sell    20  7512.0  ZeroMinusTick   \n",
       "\n",
       "                             trdMatchID  grossValue  homeNotional  \\\n",
       "0  084e9218-9596-3457-fee1-3012bb3ce1a6     6655500      0.066555   \n",
       "1  d25b3551-5850-0974-b844-80d591dff4d2      186354      0.001864   \n",
       "2  bad21a77-12eb-aed6-809b-8d3090d8efb2       66560      0.000666   \n",
       "3  57da5cfd-a646-d014-d8b3-3c18e7565abc     5098496      0.050985   \n",
       "4  d95cdd09-7784-21e4-b008-192762fbf199      266240      0.002662   \n",
       "\n",
       "   foreignNotional  \n",
       "0            500.0  \n",
       "1             14.0  \n",
       "2              5.0  \n",
       "3            383.0  \n",
       "4             20.0  "
      ]
     },
     "execution_count": 41,
     "metadata": {},
     "output_type": "execute_result"
    }
   ],
   "source": [
    "df.reset_index(inplace=True, drop=True)\n",
    "df.head()"
   ]
  },
  {
   "cell_type": "code",
   "execution_count": 24,
   "metadata": {},
   "outputs": [
    {
     "data": {
      "text/html": [
       "<div>\n",
       "<style scoped>\n",
       "    .dataframe tbody tr th:only-of-type {\n",
       "        vertical-align: middle;\n",
       "    }\n",
       "\n",
       "    .dataframe tbody tr th {\n",
       "        vertical-align: top;\n",
       "    }\n",
       "\n",
       "    .dataframe thead th {\n",
       "        text-align: right;\n",
       "    }\n",
       "</style>\n",
       "<table border=\"1\" class=\"dataframe\">\n",
       "  <thead>\n",
       "    <tr style=\"text-align: right;\">\n",
       "      <th></th>\n",
       "      <th>size</th>\n",
       "      <th>price</th>\n",
       "      <th>grossValue</th>\n",
       "      <th>homeNotional</th>\n",
       "      <th>foreignNotional</th>\n",
       "    </tr>\n",
       "  </thead>\n",
       "  <tbody>\n",
       "    <tr>\n",
       "      <th>count</th>\n",
       "      <td>1.309671e+06</td>\n",
       "      <td>1.309671e+06</td>\n",
       "      <td>1.309671e+06</td>\n",
       "      <td>1.309671e+06</td>\n",
       "      <td>1.309671e+06</td>\n",
       "    </tr>\n",
       "    <tr>\n",
       "      <th>mean</th>\n",
       "      <td>3.857544e+03</td>\n",
       "      <td>7.336222e+03</td>\n",
       "      <td>5.254340e+07</td>\n",
       "      <td>5.254340e-01</td>\n",
       "      <td>3.857544e+03</td>\n",
       "    </tr>\n",
       "    <tr>\n",
       "      <th>std</th>\n",
       "      <td>1.679764e+04</td>\n",
       "      <td>1.224793e+02</td>\n",
       "      <td>2.284365e+08</td>\n",
       "      <td>2.284365e+00</td>\n",
       "      <td>1.679764e+04</td>\n",
       "    </tr>\n",
       "    <tr>\n",
       "      <th>min</th>\n",
       "      <td>1.000000e+00</td>\n",
       "      <td>7.122000e+03</td>\n",
       "      <td>1.300600e+04</td>\n",
       "      <td>1.300600e-04</td>\n",
       "      <td>1.000000e+00</td>\n",
       "    </tr>\n",
       "    <tr>\n",
       "      <th>25%</th>\n",
       "      <td>3.200000e+01</td>\n",
       "      <td>7.223000e+03</td>\n",
       "      <td>4.367360e+05</td>\n",
       "      <td>4.367360e-03</td>\n",
       "      <td>3.200000e+01</td>\n",
       "    </tr>\n",
       "    <tr>\n",
       "      <th>50%</th>\n",
       "      <td>2.000000e+02</td>\n",
       "      <td>7.326500e+03</td>\n",
       "      <td>2.732200e+06</td>\n",
       "      <td>2.732200e-02</td>\n",
       "      <td>2.000000e+02</td>\n",
       "    </tr>\n",
       "    <tr>\n",
       "      <th>75%</th>\n",
       "      <td>1.627000e+03</td>\n",
       "      <td>7.460500e+03</td>\n",
       "      <td>2.222291e+07</td>\n",
       "      <td>2.222291e-01</td>\n",
       "      <td>1.627000e+03</td>\n",
       "    </tr>\n",
       "    <tr>\n",
       "      <th>max</th>\n",
       "      <td>2.486453e+06</td>\n",
       "      <td>7.689000e+03</td>\n",
       "      <td>3.328615e+10</td>\n",
       "      <td>3.328615e+02</td>\n",
       "      <td>2.486453e+06</td>\n",
       "    </tr>\n",
       "  </tbody>\n",
       "</table>\n",
       "</div>"
      ],
      "text/plain": [
       "               size         price    grossValue  homeNotional  foreignNotional\n",
       "count  1.309671e+06  1.309671e+06  1.309671e+06  1.309671e+06     1.309671e+06\n",
       "mean   3.857544e+03  7.336222e+03  5.254340e+07  5.254340e-01     3.857544e+03\n",
       "std    1.679764e+04  1.224793e+02  2.284365e+08  2.284365e+00     1.679764e+04\n",
       "min    1.000000e+00  7.122000e+03  1.300600e+04  1.300600e-04     1.000000e+00\n",
       "25%    3.200000e+01  7.223000e+03  4.367360e+05  4.367360e-03     3.200000e+01\n",
       "50%    2.000000e+02  7.326500e+03  2.732200e+06  2.732200e-02     2.000000e+02\n",
       "75%    1.627000e+03  7.460500e+03  2.222291e+07  2.222291e-01     1.627000e+03\n",
       "max    2.486453e+06  7.689000e+03  3.328615e+10  3.328615e+02     2.486453e+06"
      ]
     },
     "execution_count": 24,
     "metadata": {},
     "output_type": "execute_result"
    }
   ],
   "source": [
    "df.describe()"
   ]
  },
  {
   "cell_type": "code",
   "execution_count": 25,
   "metadata": {},
   "outputs": [
    {
     "data": {
      "text/plain": [
       "Index(['timestamp', 'symbol', 'side', 'size', 'price', 'tickDirection',\n",
       "       'trdMatchID', 'grossValue', 'homeNotional', 'foreignNotional'],\n",
       "      dtype='object')"
      ]
     },
     "execution_count": 25,
     "metadata": {},
     "output_type": "execute_result"
    }
   ],
   "source": [
    "df.columns"
   ]
  },
  {
   "cell_type": "code",
   "execution_count": 42,
   "metadata": {},
   "outputs": [
    {
     "data": {
      "text/html": [
       "<div>\n",
       "<style scoped>\n",
       "    .dataframe tbody tr th:only-of-type {\n",
       "        vertical-align: middle;\n",
       "    }\n",
       "\n",
       "    .dataframe tbody tr th {\n",
       "        vertical-align: top;\n",
       "    }\n",
       "\n",
       "    .dataframe thead th {\n",
       "        text-align: right;\n",
       "    }\n",
       "</style>\n",
       "<table border=\"1\" class=\"dataframe\">\n",
       "  <thead>\n",
       "    <tr style=\"text-align: right;\">\n",
       "      <th></th>\n",
       "      <th>timestamp</th>\n",
       "      <th>symbol</th>\n",
       "      <th>side</th>\n",
       "      <th>size</th>\n",
       "      <th>price</th>\n",
       "      <th>tickDirection</th>\n",
       "      <th>trdMatchID</th>\n",
       "      <th>grossValue</th>\n",
       "      <th>homeNotional</th>\n",
       "      <th>foreignNotional</th>\n",
       "    </tr>\n",
       "  </thead>\n",
       "  <tbody>\n",
       "    <tr>\n",
       "      <th>count</th>\n",
       "      <td>1309671</td>\n",
       "      <td>1309671</td>\n",
       "      <td>1309671</td>\n",
       "      <td>1.309671e+06</td>\n",
       "      <td>1.309671e+06</td>\n",
       "      <td>1309671</td>\n",
       "      <td>1309671</td>\n",
       "      <td>1.309671e+06</td>\n",
       "      <td>1.309671e+06</td>\n",
       "      <td>1.309671e+06</td>\n",
       "    </tr>\n",
       "    <tr>\n",
       "      <th>unique</th>\n",
       "      <td>407403</td>\n",
       "      <td>1</td>\n",
       "      <td>2</td>\n",
       "      <td>NaN</td>\n",
       "      <td>NaN</td>\n",
       "      <td>4</td>\n",
       "      <td>1309671</td>\n",
       "      <td>NaN</td>\n",
       "      <td>NaN</td>\n",
       "      <td>NaN</td>\n",
       "    </tr>\n",
       "    <tr>\n",
       "      <th>top</th>\n",
       "      <td>2019-12-09 07:04:18.260564</td>\n",
       "      <td>XBTUSD</td>\n",
       "      <td>Sell</td>\n",
       "      <td>NaN</td>\n",
       "      <td>NaN</td>\n",
       "      <td>ZeroMinusTick</td>\n",
       "      <td>34370c9e-38b5-fdcd-a900-ec25969cffc1</td>\n",
       "      <td>NaN</td>\n",
       "      <td>NaN</td>\n",
       "      <td>NaN</td>\n",
       "    </tr>\n",
       "    <tr>\n",
       "      <th>freq</th>\n",
       "      <td>1421</td>\n",
       "      <td>1309671</td>\n",
       "      <td>679823</td>\n",
       "      <td>NaN</td>\n",
       "      <td>NaN</td>\n",
       "      <td>603821</td>\n",
       "      <td>1</td>\n",
       "      <td>NaN</td>\n",
       "      <td>NaN</td>\n",
       "      <td>NaN</td>\n",
       "    </tr>\n",
       "    <tr>\n",
       "      <th>first</th>\n",
       "      <td>2019-12-09 00:00:03.137637</td>\n",
       "      <td>NaN</td>\n",
       "      <td>NaN</td>\n",
       "      <td>NaN</td>\n",
       "      <td>NaN</td>\n",
       "      <td>NaN</td>\n",
       "      <td>NaN</td>\n",
       "      <td>NaN</td>\n",
       "      <td>NaN</td>\n",
       "      <td>NaN</td>\n",
       "    </tr>\n",
       "    <tr>\n",
       "      <th>last</th>\n",
       "      <td>2019-12-11 23:59:59.861272</td>\n",
       "      <td>NaN</td>\n",
       "      <td>NaN</td>\n",
       "      <td>NaN</td>\n",
       "      <td>NaN</td>\n",
       "      <td>NaN</td>\n",
       "      <td>NaN</td>\n",
       "      <td>NaN</td>\n",
       "      <td>NaN</td>\n",
       "      <td>NaN</td>\n",
       "    </tr>\n",
       "    <tr>\n",
       "      <th>mean</th>\n",
       "      <td>NaN</td>\n",
       "      <td>NaN</td>\n",
       "      <td>NaN</td>\n",
       "      <td>3.857544e+03</td>\n",
       "      <td>7.336222e+03</td>\n",
       "      <td>NaN</td>\n",
       "      <td>NaN</td>\n",
       "      <td>5.254340e+07</td>\n",
       "      <td>5.254340e-01</td>\n",
       "      <td>3.857544e+03</td>\n",
       "    </tr>\n",
       "    <tr>\n",
       "      <th>std</th>\n",
       "      <td>NaN</td>\n",
       "      <td>NaN</td>\n",
       "      <td>NaN</td>\n",
       "      <td>1.679764e+04</td>\n",
       "      <td>1.224793e+02</td>\n",
       "      <td>NaN</td>\n",
       "      <td>NaN</td>\n",
       "      <td>2.284365e+08</td>\n",
       "      <td>2.284365e+00</td>\n",
       "      <td>1.679764e+04</td>\n",
       "    </tr>\n",
       "    <tr>\n",
       "      <th>min</th>\n",
       "      <td>NaN</td>\n",
       "      <td>NaN</td>\n",
       "      <td>NaN</td>\n",
       "      <td>1.000000e+00</td>\n",
       "      <td>7.122000e+03</td>\n",
       "      <td>NaN</td>\n",
       "      <td>NaN</td>\n",
       "      <td>1.300600e+04</td>\n",
       "      <td>1.300600e-04</td>\n",
       "      <td>1.000000e+00</td>\n",
       "    </tr>\n",
       "    <tr>\n",
       "      <th>25%</th>\n",
       "      <td>NaN</td>\n",
       "      <td>NaN</td>\n",
       "      <td>NaN</td>\n",
       "      <td>3.200000e+01</td>\n",
       "      <td>7.223000e+03</td>\n",
       "      <td>NaN</td>\n",
       "      <td>NaN</td>\n",
       "      <td>4.367360e+05</td>\n",
       "      <td>4.367360e-03</td>\n",
       "      <td>3.200000e+01</td>\n",
       "    </tr>\n",
       "    <tr>\n",
       "      <th>50%</th>\n",
       "      <td>NaN</td>\n",
       "      <td>NaN</td>\n",
       "      <td>NaN</td>\n",
       "      <td>2.000000e+02</td>\n",
       "      <td>7.326500e+03</td>\n",
       "      <td>NaN</td>\n",
       "      <td>NaN</td>\n",
       "      <td>2.732200e+06</td>\n",
       "      <td>2.732200e-02</td>\n",
       "      <td>2.000000e+02</td>\n",
       "    </tr>\n",
       "    <tr>\n",
       "      <th>75%</th>\n",
       "      <td>NaN</td>\n",
       "      <td>NaN</td>\n",
       "      <td>NaN</td>\n",
       "      <td>1.627000e+03</td>\n",
       "      <td>7.460500e+03</td>\n",
       "      <td>NaN</td>\n",
       "      <td>NaN</td>\n",
       "      <td>2.222291e+07</td>\n",
       "      <td>2.222291e-01</td>\n",
       "      <td>1.627000e+03</td>\n",
       "    </tr>\n",
       "    <tr>\n",
       "      <th>max</th>\n",
       "      <td>NaN</td>\n",
       "      <td>NaN</td>\n",
       "      <td>NaN</td>\n",
       "      <td>2.486453e+06</td>\n",
       "      <td>7.689000e+03</td>\n",
       "      <td>NaN</td>\n",
       "      <td>NaN</td>\n",
       "      <td>3.328615e+10</td>\n",
       "      <td>3.328615e+02</td>\n",
       "      <td>2.486453e+06</td>\n",
       "    </tr>\n",
       "  </tbody>\n",
       "</table>\n",
       "</div>"
      ],
      "text/plain": [
       "                         timestamp   symbol     side          size  \\\n",
       "count                      1309671  1309671  1309671  1.309671e+06   \n",
       "unique                      407403        1        2           NaN   \n",
       "top     2019-12-09 07:04:18.260564   XBTUSD     Sell           NaN   \n",
       "freq                          1421  1309671   679823           NaN   \n",
       "first   2019-12-09 00:00:03.137637      NaN      NaN           NaN   \n",
       "last    2019-12-11 23:59:59.861272      NaN      NaN           NaN   \n",
       "mean                           NaN      NaN      NaN  3.857544e+03   \n",
       "std                            NaN      NaN      NaN  1.679764e+04   \n",
       "min                            NaN      NaN      NaN  1.000000e+00   \n",
       "25%                            NaN      NaN      NaN  3.200000e+01   \n",
       "50%                            NaN      NaN      NaN  2.000000e+02   \n",
       "75%                            NaN      NaN      NaN  1.627000e+03   \n",
       "max                            NaN      NaN      NaN  2.486453e+06   \n",
       "\n",
       "               price  tickDirection                            trdMatchID  \\\n",
       "count   1.309671e+06        1309671                               1309671   \n",
       "unique           NaN              4                               1309671   \n",
       "top              NaN  ZeroMinusTick  34370c9e-38b5-fdcd-a900-ec25969cffc1   \n",
       "freq             NaN         603821                                     1   \n",
       "first            NaN            NaN                                   NaN   \n",
       "last             NaN            NaN                                   NaN   \n",
       "mean    7.336222e+03            NaN                                   NaN   \n",
       "std     1.224793e+02            NaN                                   NaN   \n",
       "min     7.122000e+03            NaN                                   NaN   \n",
       "25%     7.223000e+03            NaN                                   NaN   \n",
       "50%     7.326500e+03            NaN                                   NaN   \n",
       "75%     7.460500e+03            NaN                                   NaN   \n",
       "max     7.689000e+03            NaN                                   NaN   \n",
       "\n",
       "          grossValue  homeNotional  foreignNotional  \n",
       "count   1.309671e+06  1.309671e+06     1.309671e+06  \n",
       "unique           NaN           NaN              NaN  \n",
       "top              NaN           NaN              NaN  \n",
       "freq             NaN           NaN              NaN  \n",
       "first            NaN           NaN              NaN  \n",
       "last             NaN           NaN              NaN  \n",
       "mean    5.254340e+07  5.254340e-01     3.857544e+03  \n",
       "std     2.284365e+08  2.284365e+00     1.679764e+04  \n",
       "min     1.300600e+04  1.300600e-04     1.000000e+00  \n",
       "25%     4.367360e+05  4.367360e-03     3.200000e+01  \n",
       "50%     2.732200e+06  2.732200e-02     2.000000e+02  \n",
       "75%     2.222291e+07  2.222291e-01     1.627000e+03  \n",
       "max     3.328615e+10  3.328615e+02     2.486453e+06  "
      ]
     },
     "execution_count": 42,
     "metadata": {},
     "output_type": "execute_result"
    }
   ],
   "source": [
    "df.describe(include='all')"
   ]
  },
  {
   "cell_type": "code",
   "execution_count": 28,
   "metadata": {},
   "outputs": [
    {
     "data": {
      "text/plain": [
       "<matplotlib.axes._subplots.AxesSubplot at 0x133dba780>"
      ]
     },
     "execution_count": 28,
     "metadata": {},
     "output_type": "execute_result"
    },
    {
     "data": {
      "image/png": "[encoded data removed]",
      "text/plain": [
       "<Figure size 432x288 with 1 Axes>"
      ]
     },
     "metadata": {},
     "output_type": "display_data"
    }
   ],
   "source": [
    "df[\"size\"].plot(kind=\"box\")"
   ]
  },
  {
   "cell_type": "code",
   "execution_count": 45,
   "metadata": {},
   "outputs": [],
   "source": [
    "df['size_clip'] = df['size'].clip(df['size'].quantile(0.01), df['size'].quantile(0.99))"
   ]
  },
  {
   "cell_type": "code",
   "execution_count": 46,
   "metadata": {},
   "outputs": [
    {
     "data": {
      "text/plain": [
       "<matplotlib.axes._subplots.AxesSubplot at 0x101d14828>"
      ]
     },
     "execution_count": 46,
     "metadata": {},
     "output_type": "execute_result"
    },
    {
     "data": {
      "image/png": "[encoded data removed]",
      "text/plain": [
       "<Figure size 432x288 with 1 Axes>"
      ]
     },
     "metadata": {},
     "output_type": "display_data"
    }
   ],
   "source": [
    "df.size_clip.plot(kind='box')"
   ]
  },
  {
   "cell_type": "code",
   "execution_count": 47,
   "metadata": {},
   "outputs": [
    {
     "data": {
      "text/plain": [
       "<matplotlib.axes._subplots.AxesSubplot at 0x1239d5a20>"
      ]
     },
     "execution_count": 47,
     "metadata": {},
     "output_type": "execute_result"
    },
    {
     "data": {
      "image/png": "[encoded data removed]",
      "text/plain": [
       "<Figure size 432x288 with 1 Axes>"
      ]
     },
     "metadata": {},
     "output_type": "display_data"
    }
   ],
   "source": [
    "df[\"size\"].plot(kind=\"box\", ylim=(0, 5000))"
   ]
  },
  {
   "cell_type": "code",
   "execution_count": 48,
   "metadata": {},
   "outputs": [
    {
     "data": {
      "text/plain": [
       "0            (7462.2, 7575.6]\n",
       "1            (7462.2, 7575.6]\n",
       "2            (7462.2, 7575.6]\n",
       "3            (7462.2, 7575.6]\n",
       "4            (7462.2, 7575.6]\n",
       "                  ...        \n",
       "1309666    (7121.433, 7235.4]\n",
       "1309667    (7121.433, 7235.4]\n",
       "1309668    (7121.433, 7235.4]\n",
       "1309669    (7121.433, 7235.4]\n",
       "1309670    (7121.433, 7235.4]\n",
       "Name: price_discrete_bins, Length: 1309671, dtype: category\n",
       "Categories (5, interval[float64]): [(7121.433, 7235.4] < (7235.4, 7348.8] < (7348.8, 7462.2] < (7462.2, 7575.6] < (7575.6, 7689.0]]"
      ]
     },
     "execution_count": 48,
     "metadata": {},
     "output_type": "execute_result"
    }
   ],
   "source": [
    "df['price_discrete_bins'] = pd.cut(df.price, 5)\n",
    "df['price_discrete_bins']"
   ]
  },
  {
   "cell_type": "code",
   "execution_count": 50,
   "metadata": {},
   "outputs": [
    {
     "data": {
      "text/plain": [
       "(7121.433, 7235.4]    419820\n",
       "(7235.4, 7348.8]      367043\n",
       "(7462.2, 7575.6]      301654\n",
       "(7348.8, 7462.2]      200231\n",
       "(7575.6, 7689.0]       20923\n",
       "Name: price_discrete_bins, dtype: int64"
      ]
     },
     "execution_count": 50,
     "metadata": {},
     "output_type": "execute_result"
    }
   ],
   "source": [
    "df['price_discrete_bins'].value_counts()"
   ]
  },
  {
   "cell_type": "code",
   "execution_count": 53,
   "metadata": {},
   "outputs": [
    {
     "data": {
      "text/plain": [
       "0              high\n",
       "1              high\n",
       "2              high\n",
       "3              high\n",
       "4              high\n",
       "             ...   \n",
       "1309666    very low\n",
       "1309667    very low\n",
       "1309668    very low\n",
       "1309669    very low\n",
       "1309670    very low\n",
       "Name: price_discrete_labels, Length: 1309671, dtype: category\n",
       "Categories (5, object): [very low < low < mid < high < very high]"
      ]
     },
     "execution_count": 53,
     "metadata": {},
     "output_type": "execute_result"
    }
   ],
   "source": [
    "df['price_discrete_labels'] = pd.cut(df.price, 5, labels=['very low', 'low', 'mid', 'high', 'very high'])\n",
    "df['price_discrete_labels']"
   ]
  },
  {
   "cell_type": "code",
   "execution_count": 55,
   "metadata": {},
   "outputs": [
    {
     "data": {
      "text/plain": [
       "very low     0.320554\n",
       "low          0.280256\n",
       "high         0.230328\n",
       "mid          0.152886\n",
       "very high    0.015976\n",
       "Name: price_discrete_labels, dtype: float64"
      ]
     },
     "execution_count": 55,
     "metadata": {},
     "output_type": "execute_result"
    }
   ],
   "source": [
    "df.price_discrete_labels.value_counts(normalize=True)"
   ]
  },
  {
   "cell_type": "code",
   "execution_count": 76,
   "metadata": {},
   "outputs": [
    {
     "data": {
      "text/plain": [
       "0            (7477.0, 7689.0]\n",
       "1            (7477.0, 7689.0]\n",
       "2            (7477.0, 7689.0]\n",
       "3            (7477.0, 7689.0]\n",
       "4            (7477.0, 7689.0]\n",
       "                  ...        \n",
       "1309666    (7121.999, 7212.5]\n",
       "1309667    (7121.999, 7212.5]\n",
       "1309668    (7121.999, 7212.5]\n",
       "1309669    (7121.999, 7212.5]\n",
       "1309670    (7121.999, 7212.5]\n",
       "Name: price_discrete_equal_bins, Length: 1309671, dtype: category\n",
       "Categories (5, interval[float64]): [(7121.999, 7212.5] < (7212.5, 7292.5] < (7292.5, 7348.5] < (7348.5, 7477.0] < (7477.0, 7689.0]]"
      ]
     },
     "execution_count": 76,
     "metadata": {},
     "output_type": "execute_result"
    }
   ],
   "source": [
    "df['price_discrete_equal_bins'] = pd.qcut(df.price, 5)\n",
    "df['price_discrete_equal_bins']"
   ]
  },
  {
   "cell_type": "code",
   "execution_count": 77,
   "metadata": {},
   "outputs": [
    {
     "data": {
      "text/plain": [
       "(7121.999, 7212.5]    264009\n",
       "(7292.5, 7348.5]      262610\n",
       "(7348.5, 7477.0]      262396\n",
       "(7477.0, 7689.0]      260412\n",
       "(7212.5, 7292.5]      260244\n",
       "Name: price_discrete_equal_bins, dtype: int64"
      ]
     },
     "execution_count": 77,
     "metadata": {},
     "output_type": "execute_result"
    }
   ],
   "source": [
    "df.price_discrete_equal_bins.value_counts()"
   ]
  },
  {
   "cell_type": "code",
   "execution_count": 59,
   "metadata": {},
   "outputs": [
    {
     "data": {
      "text/plain": [
       "True"
      ]
     },
     "execution_count": 59,
     "metadata": {},
     "output_type": "execute_result"
    }
   ],
   "source": [
    "None == None"
   ]
  },
  {
   "cell_type": "code",
   "execution_count": 62,
   "metadata": {},
   "outputs": [
    {
     "data": {
      "text/plain": [
       "False"
      ]
     },
     "execution_count": 62,
     "metadata": {},
     "output_type": "execute_result"
    }
   ],
   "source": [
    "pd.np.nan == pd.np.nan"
   ]
  },
  {
   "cell_type": "code",
   "execution_count": 72,
   "metadata": {},
   "outputs": [
    {
     "name": "stderr",
     "output_type": "stream",
     "text": [
      "/Users/r.orac/envs/r/lib/python3.7/site-packages/ipykernel_launcher.py:1: RuntimeWarning: invalid value encountered in log\n",
      "  \"\"\"Entry point for launching an IPython kernel.\n"
     ]
    },
    {
     "data": {
      "text/plain": [
       "nan"
      ]
     },
     "execution_count": 72,
     "metadata": {},
     "output_type": "execute_result"
    }
   ],
   "source": [
    "pd.np.log(-1)"
   ]
  },
  {
   "cell_type": "code",
   "execution_count": 74,
   "metadata": {},
   "outputs": [
    {
     "name": "stderr",
     "output_type": "stream",
     "text": [
      "/Users/r.orac/envs/r/lib/python3.7/site-packages/ipykernel_launcher.py:1: RuntimeWarning: invalid value encountered in arccos\n",
      "  \"\"\"Entry point for launching an IPython kernel.\n"
     ]
    },
    {
     "data": {
      "text/plain": [
       "nan"
      ]
     },
     "execution_count": 74,
     "metadata": {},
     "output_type": "execute_result"
    }
   ],
   "source": [
    "pd.np.arccos(2)"
   ]
  },
  {
   "cell_type": "code",
   "execution_count": 75,
   "metadata": {},
   "outputs": [
    {
     "name": "stderr",
     "output_type": "stream",
     "text": [
      "/Users/r.orac/envs/r/lib/python3.7/site-packages/ipykernel_launcher.py:1: RuntimeWarning: invalid value encountered in log\n",
      "  \"\"\"Entry point for launching an IPython kernel.\n",
      "/Users/r.orac/envs/r/lib/python3.7/site-packages/ipykernel_launcher.py:1: RuntimeWarning: invalid value encountered in arccos\n",
      "  \"\"\"Entry point for launching an IPython kernel.\n"
     ]
    },
    {
     "data": {
      "text/plain": [
       "False"
      ]
     },
     "execution_count": 75,
     "metadata": {},
     "output_type": "execute_result"
    }
   ],
   "source": [
    "pd.np.log(-1) == pd.np.arccos(2)"
   ]
  }
 ],
 "metadata": {
  "kernelspec": {
   "display_name": "Python 3",
   "language": "python",
   "name": "python3"
  },
  "language_info": {
   "codemirror_mode": {
    "name": "ipython",
    "version": 3
   },
   "file_extension": ".py",
   "mimetype": "text/x-python",
   "name": "python",
   "nbconvert_exporter": "python",
   "pygments_lexer": "ipython3",
   "version": "3.7.3"
  }
 },
 "nbformat": 4,
 "nbformat_minor": 4
}
